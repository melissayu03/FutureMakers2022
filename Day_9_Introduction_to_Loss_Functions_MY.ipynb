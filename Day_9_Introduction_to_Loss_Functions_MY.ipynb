{
  "nbformat": 4,
  "nbformat_minor": 0,
  "metadata": {
    "colab": {
      "name": "Day_9_Introduction_to_Loss_Functions_MY.ipynb",
      "provenance": [],
      "collapsed_sections": [],
      "include_colab_link": true
    },
    "kernelspec": {
      "name": "python3",
      "display_name": "Python 3"
    },
    "language_info": {
      "name": "python"
    },
    "accelerator": "GPU"
  },
  "cells": [
    {
      "cell_type": "markdown",
      "metadata": {
        "id": "view-in-github",
        "colab_type": "text"
      },
      "source": [
        "<a href=\"https://colab.research.google.com/github/melissayu03/FutureMakers2022/blob/main/Day_9_Introduction_to_Loss_Functions_MY.ipynb\" target=\"_parent\"><img src=\"https://colab.research.google.com/assets/colab-badge.svg\" alt=\"Open In Colab\"/></a>"
      ]
    },
    {
      "cell_type": "markdown",
      "metadata": {
        "id": "861ncVuLPeyF"
      },
      "source": [
        "![image_2021-10-30_133041.png](data:image/png;base64,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)"
      ]
    },
    {
      "cell_type": "markdown",
      "source": [
        "#Day 9 Objectives: \n",
        "* To introduce you to loss functions. \n"
      ],
      "metadata": {
        "id": "5rokz_Xr0kDG"
      }
    },
    {
      "cell_type": "markdown",
      "metadata": {
        "id": "dCtJpzBrYWqr"
      },
      "source": [
        "# Loss Functions"
      ]
    },
    {
      "cell_type": "markdown",
      "metadata": {
        "id": "e4fAWIkUYUyR"
      },
      "source": [
        "Loss functions define what a good prediction is and isn’t. Choosing the right loss function dictates how well your estimator (machine learning model) will be. The criteria by which an estimator is scrutinized is its performance - how accurate the model's decisions are. This calls for a way to measure how far a particular iteration of the model is from the actual values. This is where loss functions come into play.\n",
        "\n",
        "Loss functions measure how far an estimated value is from its true value. A loss function maps decisions to their associated costs. Loss functions are not fixed, they change depending on the task in hand and the goal to be met.\n",
        "\n",
        "Worth to note we can speak of different kind of loss functions: **regression loss** functions and **classification loss** functions.\n",
        "\n",
        "Regression loss function describes the difference between the values that a model is predicting and the actual values of the labels. So the loss function has a meaning on a labeled data when we compare the prediction to the label at a single point of time. This loss function is often called the error function or the error formula. Typical error functions we use for regression models are L1 and L2, Huber loss, Quantile loss, log cosh loss.\n",
        "\n",
        "**Note**: L1 loss is also know as Mean Absolute Error. L2 Loss is also know as Mean Square Error or Quadratic loss.\n",
        "\n",
        "Loss functions for classification represent the price paid for inaccuracy of predictions in classification problems (problems of identifying which category a particular observation belongs to). To name a few: log loss, focal loss, exponential loss, hinge loss, relative entropy loss and other.\n",
        "\n",
        "*Note*: While more commonly used in regression, the square loss function can be re-written and utilized for classification."
      ]
    },
    {
      "cell_type": "code",
      "metadata": {
        "id": "7I1Y9BQxq72l"
      },
      "source": [
        "import tensorflow as tf\n",
        "from tensorflow import keras\n",
        "import matplotlib.pyplot as plt\n",
        "import numpy as np"
      ],
      "execution_count": 4,
      "outputs": []
    },
    {
      "cell_type": "markdown",
      "metadata": {
        "id": "g6Hpicvr6XJ0"
      },
      "source": [
        "# Regression Losses\n",
        "\n",
        "Remember, in regression, the output would be a real value. We need some loss functions which compares two real values."
      ]
    },
    {
      "cell_type": "code",
      "metadata": {
        "id": "eMoFFw2VUR7j",
        "colab": {
          "base_uri": "https://localhost:8080/"
        },
        "outputId": "220c71ae-cf2e-4860-8e1a-db7c325b67d8"
      },
      "source": [
        "(train_features, train_labels), (test_features, test_labels) = keras.datasets.boston_housing.load_data()\n",
        "\n",
        "# get per-feature statistics (mean, standard deviation) from the training set to normalize by\n",
        "train_mean = np.mean(train_features, axis=0)\n",
        "train_std = np.std(train_features, axis=0)\n",
        "train_features = (train_features - train_mean) / train_std"
      ],
      "execution_count": 5,
      "outputs": [
        {
          "output_type": "stream",
          "name": "stdout",
          "text": [
            "Downloading data from https://storage.googleapis.com/tensorflow/tf-keras-datasets/boston_housing.npz\n",
            "57344/57026 [==============================] - 0s 0us/step\n",
            "65536/57026 [==================================] - 0s 0us/step\n"
          ]
        }
      ]
    },
    {
      "cell_type": "markdown",
      "metadata": {
        "id": "hAdSFpdB6aDH"
      },
      "source": [
        "## Mean Squared Error [MSE]\n",
        "\n",
        "As the name suggests, Mean square error is measured as the average of squared difference between predictions and actual observations. It’s only concerned with the average magnitude of error irrespective of their direction. \n",
        "\n",
        "However, due to squaring, predictions which are far away from actual values are penalized heavily in comparison to less deviated predictions. Plus MSE has nice mathematical properties which makes it easier to calculate gradients.\n",
        "\n",
        "Let's assume there are $n$ data samples, for $i^{th}$ sample; the actual output is $y_i$ and $\\hat{y}_i$ is the estimated output from the regression model. \n",
        "\n",
        "We first square the difference between the original and estimated output with $(y_i - \\hat{y}_i)^2$. Then we take sum of the squared difference for all the samples. And finally divide it by the total count of samples, which is $n$. \n",
        "\n",
        "$$MSE = \\frac{\\sum_{i=1}^{n}(y_i - \\hat{y}_i)^2}{n}$$"
      ]
    },
    {
      "cell_type": "code",
      "metadata": {
        "id": "w5OO5ZfoYtCJ",
        "colab": {
          "base_uri": "https://localhost:8080/"
        },
        "outputId": "77a2819e-c56a-43d0-a54d-bc5cbf1cf1f4"
      },
      "source": [
        "model = keras.Sequential([\n",
        "        tf.keras.layers.Dense(10, activation='relu', input_shape=[len(train_features[0])]),\n",
        "        tf.keras.layers.Dense(50, activation='relu', input_shape=[len(train_features[0])]),\n",
        "        tf.keras.layers.Dense(20, activation='relu', input_shape=[len(train_features[0])]),\n",
        "        tf.keras.layers.Dense(1)\n",
        "    ])\n",
        "\n",
        "model.compile(optimizer='adam', \n",
        "              loss='mse',\n",
        "              metrics=['mse'])\n",
        "\n",
        "model.fit(train_features, train_labels, epochs=250, validation_split = 0.1)"
      ],
      "execution_count": 5,
      "outputs": [
        {
          "output_type": "stream",
          "name": "stdout",
          "text": [
            "Epoch 1/250\n",
            "12/12 [==============================] - 3s 18ms/step - loss: 577.8885 - mse: 577.8885 - val_loss: 480.2110 - val_mse: 480.2110\n",
            "Epoch 2/250\n",
            "12/12 [==============================] - 0s 4ms/step - loss: 552.5784 - mse: 552.5784 - val_loss: 453.6136 - val_mse: 453.6136\n",
            "Epoch 3/250\n",
            "12/12 [==============================] - 0s 4ms/step - loss: 517.4871 - mse: 517.4871 - val_loss: 416.5913 - val_mse: 416.5913\n",
            "Epoch 4/250\n",
            "12/12 [==============================] - 0s 4ms/step - loss: 468.8168 - mse: 468.8168 - val_loss: 362.9608 - val_mse: 362.9608\n",
            "Epoch 5/250\n",
            "12/12 [==============================] - 0s 4ms/step - loss: 399.0329 - mse: 399.0329 - val_loss: 289.8817 - val_mse: 289.8817\n",
            "Epoch 6/250\n",
            "12/12 [==============================] - 0s 4ms/step - loss: 309.4653 - mse: 309.4653 - val_loss: 198.5942 - val_mse: 198.5942\n",
            "Epoch 7/250\n",
            "12/12 [==============================] - 0s 5ms/step - loss: 204.9240 - mse: 204.9240 - val_loss: 109.8789 - val_mse: 109.8789\n",
            "Epoch 8/250\n",
            "12/12 [==============================] - 0s 4ms/step - loss: 111.9888 - mse: 111.9888 - val_loss: 54.6714 - val_mse: 54.6714\n",
            "Epoch 9/250\n",
            "12/12 [==============================] - 0s 4ms/step - loss: 67.4063 - mse: 67.4063 - val_loss: 40.0969 - val_mse: 40.0969\n",
            "Epoch 10/250\n",
            "12/12 [==============================] - 0s 4ms/step - loss: 56.0974 - mse: 56.0974 - val_loss: 36.6359 - val_mse: 36.6359\n",
            "Epoch 11/250\n",
            "12/12 [==============================] - 0s 4ms/step - loss: 50.6106 - mse: 50.6106 - val_loss: 31.0558 - val_mse: 31.0558\n",
            "Epoch 12/250\n",
            "12/12 [==============================] - 0s 4ms/step - loss: 44.9410 - mse: 44.9410 - val_loss: 27.5497 - val_mse: 27.5497\n",
            "Epoch 13/250\n",
            "12/12 [==============================] - 0s 6ms/step - loss: 41.0265 - mse: 41.0265 - val_loss: 26.1466 - val_mse: 26.1466\n",
            "Epoch 14/250\n",
            "12/12 [==============================] - 0s 4ms/step - loss: 38.2800 - mse: 38.2800 - val_loss: 25.4083 - val_mse: 25.4083\n",
            "Epoch 15/250\n",
            "12/12 [==============================] - 0s 5ms/step - loss: 35.9813 - mse: 35.9813 - val_loss: 24.5739 - val_mse: 24.5739\n",
            "Epoch 16/250\n",
            "12/12 [==============================] - 0s 4ms/step - loss: 34.0928 - mse: 34.0928 - val_loss: 23.3622 - val_mse: 23.3622\n",
            "Epoch 17/250\n",
            "12/12 [==============================] - 0s 4ms/step - loss: 32.4758 - mse: 32.4758 - val_loss: 23.1057 - val_mse: 23.1057\n",
            "Epoch 18/250\n",
            "12/12 [==============================] - 0s 4ms/step - loss: 31.2268 - mse: 31.2268 - val_loss: 23.3307 - val_mse: 23.3307\n",
            "Epoch 19/250\n",
            "12/12 [==============================] - 0s 4ms/step - loss: 29.8979 - mse: 29.8979 - val_loss: 22.4548 - val_mse: 22.4548\n",
            "Epoch 20/250\n",
            "12/12 [==============================] - 0s 4ms/step - loss: 28.9831 - mse: 28.9831 - val_loss: 22.5702 - val_mse: 22.5702\n",
            "Epoch 21/250\n",
            "12/12 [==============================] - 0s 4ms/step - loss: 27.9193 - mse: 27.9193 - val_loss: 21.5366 - val_mse: 21.5366\n",
            "Epoch 22/250\n",
            "12/12 [==============================] - 0s 4ms/step - loss: 26.9915 - mse: 26.9915 - val_loss: 21.7926 - val_mse: 21.7926\n",
            "Epoch 23/250\n",
            "12/12 [==============================] - 0s 4ms/step - loss: 26.1469 - mse: 26.1469 - val_loss: 21.5921 - val_mse: 21.5921\n",
            "Epoch 24/250\n",
            "12/12 [==============================] - 0s 4ms/step - loss: 25.4112 - mse: 25.4112 - val_loss: 21.3142 - val_mse: 21.3142\n",
            "Epoch 25/250\n",
            "12/12 [==============================] - 0s 5ms/step - loss: 24.7716 - mse: 24.7716 - val_loss: 21.1293 - val_mse: 21.1293\n",
            "Epoch 26/250\n",
            "12/12 [==============================] - 0s 4ms/step - loss: 24.1187 - mse: 24.1187 - val_loss: 20.7216 - val_mse: 20.7216\n",
            "Epoch 27/250\n",
            "12/12 [==============================] - 0s 4ms/step - loss: 23.6064 - mse: 23.6064 - val_loss: 20.0568 - val_mse: 20.0568\n",
            "Epoch 28/250\n",
            "12/12 [==============================] - 0s 4ms/step - loss: 22.9113 - mse: 22.9113 - val_loss: 20.5413 - val_mse: 20.5413\n",
            "Epoch 29/250\n",
            "12/12 [==============================] - 0s 4ms/step - loss: 22.5348 - mse: 22.5348 - val_loss: 19.6439 - val_mse: 19.6439\n",
            "Epoch 30/250\n",
            "12/12 [==============================] - 0s 4ms/step - loss: 21.8869 - mse: 21.8869 - val_loss: 19.7418 - val_mse: 19.7418\n",
            "Epoch 31/250\n",
            "12/12 [==============================] - 0s 4ms/step - loss: 21.4573 - mse: 21.4573 - val_loss: 19.4918 - val_mse: 19.4918\n",
            "Epoch 32/250\n",
            "12/12 [==============================] - 0s 4ms/step - loss: 20.9687 - mse: 20.9687 - val_loss: 18.5011 - val_mse: 18.5011\n",
            "Epoch 33/250\n",
            "12/12 [==============================] - 0s 4ms/step - loss: 20.6168 - mse: 20.6168 - val_loss: 18.4642 - val_mse: 18.4642\n",
            "Epoch 34/250\n",
            "12/12 [==============================] - 0s 4ms/step - loss: 20.3984 - mse: 20.3984 - val_loss: 19.1314 - val_mse: 19.1314\n",
            "Epoch 35/250\n",
            "12/12 [==============================] - 0s 4ms/step - loss: 19.7328 - mse: 19.7328 - val_loss: 18.1825 - val_mse: 18.1825\n",
            "Epoch 36/250\n",
            "12/12 [==============================] - 0s 4ms/step - loss: 19.3320 - mse: 19.3320 - val_loss: 17.4306 - val_mse: 17.4306\n",
            "Epoch 37/250\n",
            "12/12 [==============================] - 0s 4ms/step - loss: 19.0014 - mse: 19.0014 - val_loss: 17.7414 - val_mse: 17.7414\n",
            "Epoch 38/250\n",
            "12/12 [==============================] - 0s 4ms/step - loss: 18.6504 - mse: 18.6504 - val_loss: 16.9056 - val_mse: 16.9056\n",
            "Epoch 39/250\n",
            "12/12 [==============================] - 0s 4ms/step - loss: 18.3083 - mse: 18.3083 - val_loss: 17.0545 - val_mse: 17.0545\n",
            "Epoch 40/250\n",
            "12/12 [==============================] - 0s 4ms/step - loss: 17.9357 - mse: 17.9357 - val_loss: 17.0543 - val_mse: 17.0543\n",
            "Epoch 41/250\n",
            "12/12 [==============================] - 0s 4ms/step - loss: 17.6590 - mse: 17.6590 - val_loss: 16.5616 - val_mse: 16.5616\n",
            "Epoch 42/250\n",
            "12/12 [==============================] - 0s 5ms/step - loss: 17.4766 - mse: 17.4766 - val_loss: 16.3936 - val_mse: 16.3936\n",
            "Epoch 43/250\n",
            "12/12 [==============================] - 0s 5ms/step - loss: 17.0826 - mse: 17.0826 - val_loss: 16.4771 - val_mse: 16.4771\n",
            "Epoch 44/250\n",
            "12/12 [==============================] - 0s 4ms/step - loss: 16.8685 - mse: 16.8685 - val_loss: 15.8990 - val_mse: 15.8990\n",
            "Epoch 45/250\n",
            "12/12 [==============================] - 0s 4ms/step - loss: 16.7958 - mse: 16.7958 - val_loss: 15.4016 - val_mse: 15.4016\n",
            "Epoch 46/250\n",
            "12/12 [==============================] - 0s 5ms/step - loss: 16.4187 - mse: 16.4187 - val_loss: 16.0793 - val_mse: 16.0793\n",
            "Epoch 47/250\n",
            "12/12 [==============================] - 0s 4ms/step - loss: 16.1519 - mse: 16.1519 - val_loss: 15.3027 - val_mse: 15.3027\n",
            "Epoch 48/250\n",
            "12/12 [==============================] - 0s 4ms/step - loss: 15.8938 - mse: 15.8938 - val_loss: 15.2635 - val_mse: 15.2635\n",
            "Epoch 49/250\n",
            "12/12 [==============================] - 0s 4ms/step - loss: 15.6633 - mse: 15.6633 - val_loss: 15.3193 - val_mse: 15.3193\n",
            "Epoch 50/250\n",
            "12/12 [==============================] - 0s 4ms/step - loss: 15.4904 - mse: 15.4904 - val_loss: 15.1000 - val_mse: 15.1000\n",
            "Epoch 51/250\n",
            "12/12 [==============================] - 0s 4ms/step - loss: 15.4419 - mse: 15.4419 - val_loss: 15.5069 - val_mse: 15.5069\n",
            "Epoch 52/250\n",
            "12/12 [==============================] - 0s 4ms/step - loss: 15.0613 - mse: 15.0613 - val_loss: 14.6359 - val_mse: 14.6359\n",
            "Epoch 53/250\n",
            "12/12 [==============================] - 0s 4ms/step - loss: 15.0403 - mse: 15.0403 - val_loss: 14.6663 - val_mse: 14.6663\n",
            "Epoch 54/250\n",
            "12/12 [==============================] - 0s 4ms/step - loss: 14.7042 - mse: 14.7042 - val_loss: 14.7270 - val_mse: 14.7270\n",
            "Epoch 55/250\n",
            "12/12 [==============================] - 0s 4ms/step - loss: 14.6457 - mse: 14.6457 - val_loss: 14.7949 - val_mse: 14.7949\n",
            "Epoch 56/250\n",
            "12/12 [==============================] - 0s 4ms/step - loss: 14.3187 - mse: 14.3187 - val_loss: 14.3338 - val_mse: 14.3338\n",
            "Epoch 57/250\n",
            "12/12 [==============================] - 0s 4ms/step - loss: 14.2996 - mse: 14.2996 - val_loss: 14.3327 - val_mse: 14.3327\n",
            "Epoch 58/250\n",
            "12/12 [==============================] - 0s 4ms/step - loss: 14.1173 - mse: 14.1173 - val_loss: 14.9890 - val_mse: 14.9890\n",
            "Epoch 59/250\n",
            "12/12 [==============================] - 0s 5ms/step - loss: 13.9821 - mse: 13.9821 - val_loss: 14.3024 - val_mse: 14.3024\n",
            "Epoch 60/250\n",
            "12/12 [==============================] - 0s 4ms/step - loss: 13.6854 - mse: 13.6854 - val_loss: 14.3075 - val_mse: 14.3075\n",
            "Epoch 61/250\n",
            "12/12 [==============================] - 0s 4ms/step - loss: 13.5064 - mse: 13.5064 - val_loss: 14.0601 - val_mse: 14.0601\n",
            "Epoch 62/250\n",
            "12/12 [==============================] - 0s 4ms/step - loss: 13.3557 - mse: 13.3557 - val_loss: 14.0561 - val_mse: 14.0561\n",
            "Epoch 63/250\n",
            "12/12 [==============================] - 0s 4ms/step - loss: 13.2560 - mse: 13.2560 - val_loss: 13.7183 - val_mse: 13.7183\n",
            "Epoch 64/250\n",
            "12/12 [==============================] - 0s 4ms/step - loss: 13.0213 - mse: 13.0213 - val_loss: 13.9296 - val_mse: 13.9296\n",
            "Epoch 65/250\n",
            "12/12 [==============================] - 0s 4ms/step - loss: 13.0684 - mse: 13.0684 - val_loss: 14.0487 - val_mse: 14.0487\n",
            "Epoch 66/250\n",
            "12/12 [==============================] - 0s 4ms/step - loss: 12.9114 - mse: 12.9114 - val_loss: 13.4499 - val_mse: 13.4499\n",
            "Epoch 67/250\n",
            "12/12 [==============================] - 0s 4ms/step - loss: 12.7719 - mse: 12.7719 - val_loss: 13.6877 - val_mse: 13.6877\n",
            "Epoch 68/250\n",
            "12/12 [==============================] - 0s 4ms/step - loss: 12.5571 - mse: 12.5571 - val_loss: 13.3094 - val_mse: 13.3094\n",
            "Epoch 69/250\n",
            "12/12 [==============================] - 0s 5ms/step - loss: 12.4163 - mse: 12.4163 - val_loss: 13.3523 - val_mse: 13.3523\n",
            "Epoch 70/250\n",
            "12/12 [==============================] - 0s 4ms/step - loss: 12.3487 - mse: 12.3487 - val_loss: 13.0654 - val_mse: 13.0654\n",
            "Epoch 71/250\n",
            "12/12 [==============================] - 0s 4ms/step - loss: 12.1702 - mse: 12.1702 - val_loss: 12.9544 - val_mse: 12.9544\n",
            "Epoch 72/250\n",
            "12/12 [==============================] - 0s 4ms/step - loss: 12.1834 - mse: 12.1834 - val_loss: 12.8854 - val_mse: 12.8854\n",
            "Epoch 73/250\n",
            "12/12 [==============================] - 0s 4ms/step - loss: 11.9275 - mse: 11.9275 - val_loss: 12.5118 - val_mse: 12.5118\n",
            "Epoch 74/250\n",
            "12/12 [==============================] - 0s 4ms/step - loss: 11.8712 - mse: 11.8712 - val_loss: 12.6884 - val_mse: 12.6884\n",
            "Epoch 75/250\n",
            "12/12 [==============================] - 0s 4ms/step - loss: 11.6995 - mse: 11.6995 - val_loss: 12.3201 - val_mse: 12.3201\n",
            "Epoch 76/250\n",
            "12/12 [==============================] - 0s 5ms/step - loss: 11.6035 - mse: 11.6035 - val_loss: 12.2571 - val_mse: 12.2571\n",
            "Epoch 77/250\n",
            "12/12 [==============================] - 0s 5ms/step - loss: 11.6630 - mse: 11.6630 - val_loss: 12.1166 - val_mse: 12.1166\n",
            "Epoch 78/250\n",
            "12/12 [==============================] - 0s 4ms/step - loss: 11.5000 - mse: 11.5000 - val_loss: 12.2762 - val_mse: 12.2762\n",
            "Epoch 79/250\n",
            "12/12 [==============================] - 0s 4ms/step - loss: 11.3120 - mse: 11.3120 - val_loss: 11.9295 - val_mse: 11.9295\n",
            "Epoch 80/250\n",
            "12/12 [==============================] - 0s 4ms/step - loss: 11.2632 - mse: 11.2632 - val_loss: 11.7939 - val_mse: 11.7939\n",
            "Epoch 81/250\n",
            "12/12 [==============================] - 0s 4ms/step - loss: 11.1382 - mse: 11.1382 - val_loss: 11.9772 - val_mse: 11.9772\n",
            "Epoch 82/250\n",
            "12/12 [==============================] - 0s 4ms/step - loss: 11.0971 - mse: 11.0971 - val_loss: 11.8374 - val_mse: 11.8374\n",
            "Epoch 83/250\n",
            "12/12 [==============================] - 0s 4ms/step - loss: 11.1206 - mse: 11.1206 - val_loss: 11.6786 - val_mse: 11.6786\n",
            "Epoch 84/250\n",
            "12/12 [==============================] - 0s 4ms/step - loss: 10.9836 - mse: 10.9836 - val_loss: 11.9000 - val_mse: 11.9000\n",
            "Epoch 85/250\n",
            "12/12 [==============================] - 0s 4ms/step - loss: 11.0424 - mse: 11.0424 - val_loss: 11.9404 - val_mse: 11.9404\n",
            "Epoch 86/250\n",
            "12/12 [==============================] - 0s 4ms/step - loss: 10.7747 - mse: 10.7747 - val_loss: 11.8139 - val_mse: 11.8139\n",
            "Epoch 87/250\n",
            "12/12 [==============================] - 0s 4ms/step - loss: 10.7771 - mse: 10.7771 - val_loss: 11.9137 - val_mse: 11.9137\n",
            "Epoch 88/250\n",
            "12/12 [==============================] - 0s 4ms/step - loss: 10.6123 - mse: 10.6123 - val_loss: 11.5811 - val_mse: 11.5811\n",
            "Epoch 89/250\n",
            "12/12 [==============================] - 0s 4ms/step - loss: 10.6106 - mse: 10.6106 - val_loss: 11.6322 - val_mse: 11.6322\n",
            "Epoch 90/250\n",
            "12/12 [==============================] - 0s 4ms/step - loss: 10.5611 - mse: 10.5611 - val_loss: 11.6797 - val_mse: 11.6797\n",
            "Epoch 91/250\n",
            "12/12 [==============================] - 0s 4ms/step - loss: 10.4371 - mse: 10.4371 - val_loss: 11.2948 - val_mse: 11.2948\n",
            "Epoch 92/250\n",
            "12/12 [==============================] - 0s 4ms/step - loss: 10.3683 - mse: 10.3683 - val_loss: 11.5655 - val_mse: 11.5655\n",
            "Epoch 93/250\n",
            "12/12 [==============================] - 0s 4ms/step - loss: 10.2547 - mse: 10.2547 - val_loss: 11.3505 - val_mse: 11.3505\n",
            "Epoch 94/250\n",
            "12/12 [==============================] - 0s 5ms/step - loss: 10.3769 - mse: 10.3769 - val_loss: 11.2867 - val_mse: 11.2867\n",
            "Epoch 95/250\n",
            "12/12 [==============================] - 0s 4ms/step - loss: 10.3131 - mse: 10.3131 - val_loss: 11.5719 - val_mse: 11.5719\n",
            "Epoch 96/250\n",
            "12/12 [==============================] - 0s 4ms/step - loss: 10.1628 - mse: 10.1628 - val_loss: 11.0260 - val_mse: 11.0260\n",
            "Epoch 97/250\n",
            "12/12 [==============================] - 0s 4ms/step - loss: 10.1150 - mse: 10.1150 - val_loss: 11.6918 - val_mse: 11.6918\n",
            "Epoch 98/250\n",
            "12/12 [==============================] - 0s 4ms/step - loss: 10.0038 - mse: 10.0038 - val_loss: 11.2054 - val_mse: 11.2054\n",
            "Epoch 99/250\n",
            "12/12 [==============================] - 0s 4ms/step - loss: 10.0405 - mse: 10.0405 - val_loss: 11.1190 - val_mse: 11.1190\n",
            "Epoch 100/250\n",
            "12/12 [==============================] - 0s 4ms/step - loss: 9.8774 - mse: 9.8774 - val_loss: 10.9991 - val_mse: 10.9991\n",
            "Epoch 101/250\n",
            "12/12 [==============================] - 0s 5ms/step - loss: 9.8525 - mse: 9.8525 - val_loss: 11.2088 - val_mse: 11.2088\n",
            "Epoch 102/250\n",
            "12/12 [==============================] - 0s 4ms/step - loss: 9.8289 - mse: 9.8289 - val_loss: 10.9321 - val_mse: 10.9321\n",
            "Epoch 103/250\n",
            "12/12 [==============================] - 0s 4ms/step - loss: 9.8468 - mse: 9.8468 - val_loss: 10.8050 - val_mse: 10.8050\n",
            "Epoch 104/250\n",
            "12/12 [==============================] - 0s 6ms/step - loss: 9.8155 - mse: 9.8155 - val_loss: 10.9277 - val_mse: 10.9277\n",
            "Epoch 105/250\n",
            "12/12 [==============================] - 0s 4ms/step - loss: 9.6152 - mse: 9.6152 - val_loss: 10.8281 - val_mse: 10.8281\n",
            "Epoch 106/250\n",
            "12/12 [==============================] - 0s 4ms/step - loss: 9.5982 - mse: 9.5982 - val_loss: 10.8613 - val_mse: 10.8613\n",
            "Epoch 107/250\n",
            "12/12 [==============================] - 0s 5ms/step - loss: 9.5498 - mse: 9.5498 - val_loss: 10.6752 - val_mse: 10.6752\n",
            "Epoch 108/250\n",
            "12/12 [==============================] - 0s 4ms/step - loss: 9.5316 - mse: 9.5316 - val_loss: 10.7133 - val_mse: 10.7133\n",
            "Epoch 109/250\n",
            "12/12 [==============================] - 0s 4ms/step - loss: 9.4304 - mse: 9.4304 - val_loss: 10.7215 - val_mse: 10.7215\n",
            "Epoch 110/250\n",
            "12/12 [==============================] - 0s 4ms/step - loss: 9.4022 - mse: 9.4022 - val_loss: 10.5269 - val_mse: 10.5269\n",
            "Epoch 111/250\n",
            "12/12 [==============================] - 0s 4ms/step - loss: 9.3787 - mse: 9.3787 - val_loss: 10.5639 - val_mse: 10.5639\n",
            "Epoch 112/250\n",
            "12/12 [==============================] - 0s 4ms/step - loss: 9.3128 - mse: 9.3128 - val_loss: 10.4237 - val_mse: 10.4237\n",
            "Epoch 113/250\n",
            "12/12 [==============================] - 0s 4ms/step - loss: 9.2833 - mse: 9.2833 - val_loss: 10.4333 - val_mse: 10.4333\n",
            "Epoch 114/250\n",
            "12/12 [==============================] - 0s 4ms/step - loss: 9.1811 - mse: 9.1811 - val_loss: 10.3207 - val_mse: 10.3207\n",
            "Epoch 115/250\n",
            "12/12 [==============================] - 0s 4ms/step - loss: 9.1924 - mse: 9.1924 - val_loss: 10.3550 - val_mse: 10.3550\n",
            "Epoch 116/250\n",
            "12/12 [==============================] - 0s 4ms/step - loss: 9.2107 - mse: 9.2107 - val_loss: 10.3744 - val_mse: 10.3744\n",
            "Epoch 117/250\n",
            "12/12 [==============================] - 0s 4ms/step - loss: 9.1641 - mse: 9.1641 - val_loss: 10.2624 - val_mse: 10.2624\n",
            "Epoch 118/250\n",
            "12/12 [==============================] - 0s 4ms/step - loss: 8.9864 - mse: 8.9864 - val_loss: 10.4602 - val_mse: 10.4602\n",
            "Epoch 119/250\n",
            "12/12 [==============================] - 0s 4ms/step - loss: 9.0408 - mse: 9.0408 - val_loss: 10.3093 - val_mse: 10.3093\n",
            "Epoch 120/250\n",
            "12/12 [==============================] - 0s 4ms/step - loss: 8.9152 - mse: 8.9152 - val_loss: 10.2742 - val_mse: 10.2742\n",
            "Epoch 121/250\n",
            "12/12 [==============================] - 0s 4ms/step - loss: 8.8816 - mse: 8.8816 - val_loss: 10.1718 - val_mse: 10.1718\n",
            "Epoch 122/250\n",
            "12/12 [==============================] - 0s 4ms/step - loss: 8.8184 - mse: 8.8184 - val_loss: 10.3233 - val_mse: 10.3233\n",
            "Epoch 123/250\n",
            "12/12 [==============================] - 0s 4ms/step - loss: 8.8219 - mse: 8.8219 - val_loss: 10.2784 - val_mse: 10.2784\n",
            "Epoch 124/250\n",
            "12/12 [==============================] - 0s 4ms/step - loss: 8.7579 - mse: 8.7579 - val_loss: 10.3070 - val_mse: 10.3070\n",
            "Epoch 125/250\n",
            "12/12 [==============================] - 0s 5ms/step - loss: 8.7024 - mse: 8.7024 - val_loss: 10.2322 - val_mse: 10.2322\n",
            "Epoch 126/250\n",
            "12/12 [==============================] - 0s 4ms/step - loss: 8.6917 - mse: 8.6917 - val_loss: 10.0438 - val_mse: 10.0438\n",
            "Epoch 127/250\n",
            "12/12 [==============================] - 0s 4ms/step - loss: 8.6902 - mse: 8.6902 - val_loss: 10.0904 - val_mse: 10.0904\n",
            "Epoch 128/250\n",
            "12/12 [==============================] - 0s 5ms/step - loss: 8.7069 - mse: 8.7069 - val_loss: 10.1183 - val_mse: 10.1183\n",
            "Epoch 129/250\n",
            "12/12 [==============================] - 0s 4ms/step - loss: 8.6554 - mse: 8.6554 - val_loss: 10.0396 - val_mse: 10.0396\n",
            "Epoch 130/250\n",
            "12/12 [==============================] - 0s 4ms/step - loss: 8.4947 - mse: 8.4947 - val_loss: 9.9069 - val_mse: 9.9069\n",
            "Epoch 131/250\n",
            "12/12 [==============================] - 0s 4ms/step - loss: 8.4688 - mse: 8.4688 - val_loss: 9.9259 - val_mse: 9.9259\n",
            "Epoch 132/250\n",
            "12/12 [==============================] - 0s 4ms/step - loss: 8.4449 - mse: 8.4449 - val_loss: 9.9257 - val_mse: 9.9257\n",
            "Epoch 133/250\n",
            "12/12 [==============================] - 0s 4ms/step - loss: 8.4414 - mse: 8.4414 - val_loss: 9.9547 - val_mse: 9.9547\n",
            "Epoch 134/250\n",
            "12/12 [==============================] - 0s 5ms/step - loss: 8.4579 - mse: 8.4579 - val_loss: 9.9589 - val_mse: 9.9589\n",
            "Epoch 135/250\n",
            "12/12 [==============================] - 0s 4ms/step - loss: 8.3946 - mse: 8.3946 - val_loss: 9.9099 - val_mse: 9.9099\n",
            "Epoch 136/250\n",
            "12/12 [==============================] - 0s 4ms/step - loss: 8.1856 - mse: 8.1856 - val_loss: 10.2427 - val_mse: 10.2427\n",
            "Epoch 137/250\n",
            "12/12 [==============================] - 0s 4ms/step - loss: 8.3049 - mse: 8.3049 - val_loss: 10.1241 - val_mse: 10.1241\n",
            "Epoch 138/250\n",
            "12/12 [==============================] - 0s 4ms/step - loss: 8.3064 - mse: 8.3064 - val_loss: 10.0189 - val_mse: 10.0189\n",
            "Epoch 139/250\n",
            "12/12 [==============================] - 0s 4ms/step - loss: 8.2618 - mse: 8.2618 - val_loss: 9.9397 - val_mse: 9.9397\n",
            "Epoch 140/250\n",
            "12/12 [==============================] - 0s 4ms/step - loss: 8.2879 - mse: 8.2879 - val_loss: 9.8927 - val_mse: 9.8927\n",
            "Epoch 141/250\n",
            "12/12 [==============================] - 0s 6ms/step - loss: 8.1233 - mse: 8.1233 - val_loss: 9.9499 - val_mse: 9.9499\n",
            "Epoch 142/250\n",
            "12/12 [==============================] - 0s 5ms/step - loss: 8.1364 - mse: 8.1364 - val_loss: 9.9856 - val_mse: 9.9856\n",
            "Epoch 143/250\n",
            "12/12 [==============================] - 0s 4ms/step - loss: 8.0820 - mse: 8.0820 - val_loss: 9.9502 - val_mse: 9.9502\n",
            "Epoch 144/250\n",
            "12/12 [==============================] - 0s 4ms/step - loss: 8.0667 - mse: 8.0667 - val_loss: 9.8953 - val_mse: 9.8953\n",
            "Epoch 145/250\n",
            "12/12 [==============================] - 0s 4ms/step - loss: 8.0163 - mse: 8.0163 - val_loss: 10.0078 - val_mse: 10.0078\n",
            "Epoch 146/250\n",
            "12/12 [==============================] - 0s 4ms/step - loss: 8.0864 - mse: 8.0864 - val_loss: 9.8045 - val_mse: 9.8045\n",
            "Epoch 147/250\n",
            "12/12 [==============================] - 0s 4ms/step - loss: 8.0254 - mse: 8.0254 - val_loss: 9.8895 - val_mse: 9.8895\n",
            "Epoch 148/250\n",
            "12/12 [==============================] - 0s 5ms/step - loss: 7.9826 - mse: 7.9826 - val_loss: 9.9215 - val_mse: 9.9215\n",
            "Epoch 149/250\n",
            "12/12 [==============================] - 0s 4ms/step - loss: 8.0018 - mse: 8.0018 - val_loss: 9.7816 - val_mse: 9.7816\n",
            "Epoch 150/250\n",
            "12/12 [==============================] - 0s 4ms/step - loss: 8.0447 - mse: 8.0447 - val_loss: 9.8183 - val_mse: 9.8183\n",
            "Epoch 151/250\n",
            "12/12 [==============================] - 0s 4ms/step - loss: 7.8420 - mse: 7.8420 - val_loss: 9.9522 - val_mse: 9.9522\n",
            "Epoch 152/250\n",
            "12/12 [==============================] - 0s 4ms/step - loss: 7.7521 - mse: 7.7521 - val_loss: 9.9249 - val_mse: 9.9249\n",
            "Epoch 153/250\n",
            "12/12 [==============================] - 0s 4ms/step - loss: 7.8674 - mse: 7.8674 - val_loss: 9.8353 - val_mse: 9.8353\n",
            "Epoch 154/250\n",
            "12/12 [==============================] - 0s 4ms/step - loss: 7.7119 - mse: 7.7119 - val_loss: 9.8112 - val_mse: 9.8112\n",
            "Epoch 155/250\n",
            "12/12 [==============================] - 0s 4ms/step - loss: 7.6978 - mse: 7.6978 - val_loss: 9.8489 - val_mse: 9.8489\n",
            "Epoch 156/250\n",
            "12/12 [==============================] - 0s 5ms/step - loss: 7.7460 - mse: 7.7460 - val_loss: 9.7963 - val_mse: 9.7963\n",
            "Epoch 157/250\n",
            "12/12 [==============================] - 0s 4ms/step - loss: 7.6887 - mse: 7.6887 - val_loss: 9.8830 - val_mse: 9.8830\n",
            "Epoch 158/250\n",
            "12/12 [==============================] - 0s 4ms/step - loss: 7.6550 - mse: 7.6550 - val_loss: 9.8303 - val_mse: 9.8303\n",
            "Epoch 159/250\n",
            "12/12 [==============================] - 0s 4ms/step - loss: 7.6063 - mse: 7.6063 - val_loss: 9.7662 - val_mse: 9.7662\n",
            "Epoch 160/250\n",
            "12/12 [==============================] - 0s 5ms/step - loss: 7.5969 - mse: 7.5969 - val_loss: 9.8017 - val_mse: 9.8017\n",
            "Epoch 161/250\n",
            "12/12 [==============================] - 0s 4ms/step - loss: 7.5298 - mse: 7.5298 - val_loss: 9.8508 - val_mse: 9.8508\n",
            "Epoch 162/250\n",
            "12/12 [==============================] - 0s 5ms/step - loss: 7.6152 - mse: 7.6152 - val_loss: 9.7089 - val_mse: 9.7089\n",
            "Epoch 163/250\n",
            "12/12 [==============================] - 0s 5ms/step - loss: 7.5603 - mse: 7.5603 - val_loss: 9.6854 - val_mse: 9.6854\n",
            "Epoch 164/250\n",
            "12/12 [==============================] - 0s 4ms/step - loss: 7.5701 - mse: 7.5701 - val_loss: 9.6168 - val_mse: 9.6168\n",
            "Epoch 165/250\n",
            "12/12 [==============================] - 0s 4ms/step - loss: 7.6258 - mse: 7.6258 - val_loss: 9.6384 - val_mse: 9.6384\n",
            "Epoch 166/250\n",
            "12/12 [==============================] - 0s 4ms/step - loss: 7.7739 - mse: 7.7739 - val_loss: 10.0022 - val_mse: 10.0022\n",
            "Epoch 167/250\n",
            "12/12 [==============================] - 0s 4ms/step - loss: 7.5827 - mse: 7.5827 - val_loss: 9.7252 - val_mse: 9.7252\n",
            "Epoch 168/250\n",
            "12/12 [==============================] - 0s 4ms/step - loss: 7.3291 - mse: 7.3291 - val_loss: 9.9185 - val_mse: 9.9185\n",
            "Epoch 169/250\n",
            "12/12 [==============================] - 0s 4ms/step - loss: 7.4847 - mse: 7.4847 - val_loss: 9.7329 - val_mse: 9.7329\n",
            "Epoch 170/250\n",
            "12/12 [==============================] - 0s 4ms/step - loss: 7.5042 - mse: 7.5042 - val_loss: 9.8484 - val_mse: 9.8484\n",
            "Epoch 171/250\n",
            "12/12 [==============================] - 0s 5ms/step - loss: 7.3713 - mse: 7.3713 - val_loss: 9.7489 - val_mse: 9.7489\n",
            "Epoch 172/250\n",
            "12/12 [==============================] - 0s 4ms/step - loss: 7.3076 - mse: 7.3076 - val_loss: 9.8141 - val_mse: 9.8141\n",
            "Epoch 173/250\n",
            "12/12 [==============================] - 0s 4ms/step - loss: 7.2934 - mse: 7.2934 - val_loss: 9.7316 - val_mse: 9.7316\n",
            "Epoch 174/250\n",
            "12/12 [==============================] - 0s 6ms/step - loss: 7.2975 - mse: 7.2975 - val_loss: 9.7496 - val_mse: 9.7496\n",
            "Epoch 175/250\n",
            "12/12 [==============================] - 0s 4ms/step - loss: 7.3451 - mse: 7.3451 - val_loss: 9.8052 - val_mse: 9.8052\n",
            "Epoch 176/250\n",
            "12/12 [==============================] - 0s 4ms/step - loss: 7.2368 - mse: 7.2368 - val_loss: 9.6582 - val_mse: 9.6582\n",
            "Epoch 177/250\n",
            "12/12 [==============================] - 0s 5ms/step - loss: 7.2342 - mse: 7.2342 - val_loss: 9.6969 - val_mse: 9.6969\n",
            "Epoch 178/250\n",
            "12/12 [==============================] - 0s 4ms/step - loss: 7.1107 - mse: 7.1107 - val_loss: 9.8846 - val_mse: 9.8846\n",
            "Epoch 179/250\n",
            "12/12 [==============================] - 0s 4ms/step - loss: 7.1422 - mse: 7.1422 - val_loss: 9.8029 - val_mse: 9.8029\n",
            "Epoch 180/250\n",
            "12/12 [==============================] - 0s 4ms/step - loss: 7.0482 - mse: 7.0482 - val_loss: 9.7414 - val_mse: 9.7414\n",
            "Epoch 181/250\n",
            "12/12 [==============================] - 0s 4ms/step - loss: 7.0771 - mse: 7.0771 - val_loss: 9.7708 - val_mse: 9.7708\n",
            "Epoch 182/250\n",
            "12/12 [==============================] - 0s 4ms/step - loss: 7.0084 - mse: 7.0084 - val_loss: 9.7696 - val_mse: 9.7696\n",
            "Epoch 183/250\n",
            "12/12 [==============================] - 0s 4ms/step - loss: 7.0103 - mse: 7.0103 - val_loss: 9.6579 - val_mse: 9.6579\n",
            "Epoch 184/250\n",
            "12/12 [==============================] - 0s 4ms/step - loss: 6.9436 - mse: 6.9436 - val_loss: 9.8577 - val_mse: 9.8577\n",
            "Epoch 185/250\n",
            "12/12 [==============================] - 0s 4ms/step - loss: 6.9904 - mse: 6.9904 - val_loss: 9.6802 - val_mse: 9.6802\n",
            "Epoch 186/250\n",
            "12/12 [==============================] - 0s 4ms/step - loss: 7.0035 - mse: 7.0035 - val_loss: 9.7039 - val_mse: 9.7039\n",
            "Epoch 187/250\n",
            "12/12 [==============================] - 0s 4ms/step - loss: 7.0589 - mse: 7.0589 - val_loss: 9.6853 - val_mse: 9.6853\n",
            "Epoch 188/250\n",
            "12/12 [==============================] - 0s 4ms/step - loss: 6.9781 - mse: 6.9781 - val_loss: 9.6918 - val_mse: 9.6918\n",
            "Epoch 189/250\n",
            "12/12 [==============================] - 0s 4ms/step - loss: 7.0167 - mse: 7.0167 - val_loss: 9.7658 - val_mse: 9.7658\n",
            "Epoch 190/250\n",
            "12/12 [==============================] - 0s 4ms/step - loss: 6.8294 - mse: 6.8294 - val_loss: 9.6640 - val_mse: 9.6640\n",
            "Epoch 191/250\n",
            "12/12 [==============================] - 0s 4ms/step - loss: 6.8645 - mse: 6.8645 - val_loss: 9.7331 - val_mse: 9.7331\n",
            "Epoch 192/250\n",
            "12/12 [==============================] - 0s 4ms/step - loss: 6.7999 - mse: 6.7999 - val_loss: 9.6543 - val_mse: 9.6543\n",
            "Epoch 193/250\n",
            "12/12 [==============================] - 0s 4ms/step - loss: 6.7716 - mse: 6.7716 - val_loss: 9.7122 - val_mse: 9.7122\n",
            "Epoch 194/250\n",
            "12/12 [==============================] - 0s 5ms/step - loss: 6.7826 - mse: 6.7826 - val_loss: 9.7483 - val_mse: 9.7483\n",
            "Epoch 195/250\n",
            "12/12 [==============================] - 0s 5ms/step - loss: 6.8747 - mse: 6.8747 - val_loss: 9.7903 - val_mse: 9.7903\n",
            "Epoch 196/250\n",
            "12/12 [==============================] - 0s 4ms/step - loss: 6.8095 - mse: 6.8095 - val_loss: 9.6825 - val_mse: 9.6825\n",
            "Epoch 197/250\n",
            "12/12 [==============================] - 0s 4ms/step - loss: 6.7006 - mse: 6.7006 - val_loss: 9.7804 - val_mse: 9.7804\n",
            "Epoch 198/250\n",
            "12/12 [==============================] - 0s 4ms/step - loss: 6.7475 - mse: 6.7475 - val_loss: 9.6050 - val_mse: 9.6050\n",
            "Epoch 199/250\n",
            "12/12 [==============================] - 0s 4ms/step - loss: 6.7679 - mse: 6.7679 - val_loss: 9.5288 - val_mse: 9.5288\n",
            "Epoch 200/250\n",
            "12/12 [==============================] - 0s 4ms/step - loss: 6.7633 - mse: 6.7633 - val_loss: 9.5872 - val_mse: 9.5872\n",
            "Epoch 201/250\n",
            "12/12 [==============================] - 0s 4ms/step - loss: 6.7256 - mse: 6.7256 - val_loss: 9.5307 - val_mse: 9.5307\n",
            "Epoch 202/250\n",
            "12/12 [==============================] - 0s 4ms/step - loss: 6.6046 - mse: 6.6046 - val_loss: 9.5630 - val_mse: 9.5630\n",
            "Epoch 203/250\n",
            "12/12 [==============================] - 0s 4ms/step - loss: 6.6859 - mse: 6.6859 - val_loss: 9.7968 - val_mse: 9.7968\n",
            "Epoch 204/250\n",
            "12/12 [==============================] - 0s 4ms/step - loss: 6.5929 - mse: 6.5929 - val_loss: 9.6722 - val_mse: 9.6722\n",
            "Epoch 205/250\n",
            "12/12 [==============================] - 0s 4ms/step - loss: 6.5268 - mse: 6.5268 - val_loss: 9.6933 - val_mse: 9.6933\n",
            "Epoch 206/250\n",
            "12/12 [==============================] - 0s 4ms/step - loss: 6.4853 - mse: 6.4853 - val_loss: 9.6397 - val_mse: 9.6397\n",
            "Epoch 207/250\n",
            "12/12 [==============================] - 0s 4ms/step - loss: 6.4625 - mse: 6.4625 - val_loss: 9.5314 - val_mse: 9.5314\n",
            "Epoch 208/250\n",
            "12/12 [==============================] - 0s 4ms/step - loss: 6.4185 - mse: 6.4185 - val_loss: 9.6669 - val_mse: 9.6669\n",
            "Epoch 209/250\n",
            "12/12 [==============================] - 0s 4ms/step - loss: 6.4076 - mse: 6.4076 - val_loss: 9.5972 - val_mse: 9.5972\n",
            "Epoch 210/250\n",
            "12/12 [==============================] - 0s 5ms/step - loss: 6.4568 - mse: 6.4568 - val_loss: 9.4872 - val_mse: 9.4872\n",
            "Epoch 211/250\n",
            "12/12 [==============================] - 0s 4ms/step - loss: 6.4120 - mse: 6.4120 - val_loss: 9.6736 - val_mse: 9.6736\n",
            "Epoch 212/250\n",
            "12/12 [==============================] - 0s 5ms/step - loss: 6.5471 - mse: 6.5471 - val_loss: 9.6455 - val_mse: 9.6455\n",
            "Epoch 213/250\n",
            "12/12 [==============================] - 0s 4ms/step - loss: 6.3486 - mse: 6.3486 - val_loss: 9.7355 - val_mse: 9.7355\n",
            "Epoch 214/250\n",
            "12/12 [==============================] - 0s 4ms/step - loss: 6.4330 - mse: 6.4330 - val_loss: 9.5992 - val_mse: 9.5992\n",
            "Epoch 215/250\n",
            "12/12 [==============================] - 0s 4ms/step - loss: 6.2853 - mse: 6.2853 - val_loss: 9.4717 - val_mse: 9.4717\n",
            "Epoch 216/250\n",
            "12/12 [==============================] - 0s 4ms/step - loss: 6.4269 - mse: 6.4269 - val_loss: 9.6775 - val_mse: 9.6775\n",
            "Epoch 217/250\n",
            "12/12 [==============================] - 0s 4ms/step - loss: 6.4383 - mse: 6.4383 - val_loss: 9.4523 - val_mse: 9.4523\n",
            "Epoch 218/250\n",
            "12/12 [==============================] - 0s 4ms/step - loss: 6.2616 - mse: 6.2616 - val_loss: 9.7139 - val_mse: 9.7139\n",
            "Epoch 219/250\n",
            "12/12 [==============================] - 0s 4ms/step - loss: 6.3574 - mse: 6.3574 - val_loss: 9.5427 - val_mse: 9.5427\n",
            "Epoch 220/250\n",
            "12/12 [==============================] - 0s 5ms/step - loss: 6.3576 - mse: 6.3576 - val_loss: 9.8052 - val_mse: 9.8052\n",
            "Epoch 221/250\n",
            "12/12 [==============================] - 0s 5ms/step - loss: 6.1867 - mse: 6.1867 - val_loss: 9.6523 - val_mse: 9.6523\n",
            "Epoch 222/250\n",
            "12/12 [==============================] - 0s 6ms/step - loss: 6.2384 - mse: 6.2384 - val_loss: 9.5571 - val_mse: 9.5571\n",
            "Epoch 223/250\n",
            "12/12 [==============================] - 0s 5ms/step - loss: 6.2291 - mse: 6.2291 - val_loss: 9.4353 - val_mse: 9.4353\n",
            "Epoch 224/250\n",
            "12/12 [==============================] - 0s 5ms/step - loss: 6.2532 - mse: 6.2532 - val_loss: 9.7259 - val_mse: 9.7259\n",
            "Epoch 225/250\n",
            "12/12 [==============================] - 0s 4ms/step - loss: 6.1791 - mse: 6.1791 - val_loss: 9.5010 - val_mse: 9.5010\n",
            "Epoch 226/250\n",
            "12/12 [==============================] - 0s 4ms/step - loss: 6.2171 - mse: 6.2171 - val_loss: 9.5863 - val_mse: 9.5863\n",
            "Epoch 227/250\n",
            "12/12 [==============================] - 0s 4ms/step - loss: 6.1734 - mse: 6.1734 - val_loss: 9.6357 - val_mse: 9.6357\n",
            "Epoch 228/250\n",
            "12/12 [==============================] - 0s 5ms/step - loss: 6.1347 - mse: 6.1347 - val_loss: 9.6053 - val_mse: 9.6053\n",
            "Epoch 229/250\n",
            "12/12 [==============================] - 0s 4ms/step - loss: 6.3020 - mse: 6.3020 - val_loss: 10.0321 - val_mse: 10.0321\n",
            "Epoch 230/250\n",
            "12/12 [==============================] - 0s 5ms/step - loss: 6.2681 - mse: 6.2681 - val_loss: 9.3629 - val_mse: 9.3629\n",
            "Epoch 231/250\n",
            "12/12 [==============================] - 0s 4ms/step - loss: 6.0823 - mse: 6.0823 - val_loss: 9.5744 - val_mse: 9.5744\n",
            "Epoch 232/250\n",
            "12/12 [==============================] - 0s 4ms/step - loss: 5.9977 - mse: 5.9977 - val_loss: 9.6085 - val_mse: 9.6085\n",
            "Epoch 233/250\n",
            "12/12 [==============================] - 0s 4ms/step - loss: 5.9749 - mse: 5.9749 - val_loss: 9.5697 - val_mse: 9.5697\n",
            "Epoch 234/250\n",
            "12/12 [==============================] - 0s 4ms/step - loss: 5.9289 - mse: 5.9289 - val_loss: 9.5766 - val_mse: 9.5766\n",
            "Epoch 235/250\n",
            "12/12 [==============================] - 0s 4ms/step - loss: 5.9320 - mse: 5.9320 - val_loss: 9.5249 - val_mse: 9.5249\n",
            "Epoch 236/250\n",
            "12/12 [==============================] - 0s 4ms/step - loss: 5.9020 - mse: 5.9020 - val_loss: 9.7025 - val_mse: 9.7025\n",
            "Epoch 237/250\n",
            "12/12 [==============================] - 0s 4ms/step - loss: 5.9122 - mse: 5.9122 - val_loss: 9.5248 - val_mse: 9.5248\n",
            "Epoch 238/250\n",
            "12/12 [==============================] - 0s 4ms/step - loss: 5.9225 - mse: 5.9225 - val_loss: 9.6105 - val_mse: 9.6105\n",
            "Epoch 239/250\n",
            "12/12 [==============================] - 0s 4ms/step - loss: 5.8647 - mse: 5.8647 - val_loss: 9.5305 - val_mse: 9.5305\n",
            "Epoch 240/250\n",
            "12/12 [==============================] - 0s 4ms/step - loss: 5.9732 - mse: 5.9732 - val_loss: 9.5827 - val_mse: 9.5827\n",
            "Epoch 241/250\n",
            "12/12 [==============================] - 0s 4ms/step - loss: 5.9505 - mse: 5.9505 - val_loss: 9.4163 - val_mse: 9.4163\n",
            "Epoch 242/250\n",
            "12/12 [==============================] - 0s 4ms/step - loss: 5.9178 - mse: 5.9178 - val_loss: 9.7814 - val_mse: 9.7814\n",
            "Epoch 243/250\n",
            "12/12 [==============================] - 0s 4ms/step - loss: 5.8609 - mse: 5.8609 - val_loss: 9.6069 - val_mse: 9.6069\n",
            "Epoch 244/250\n",
            "12/12 [==============================] - 0s 4ms/step - loss: 5.8203 - mse: 5.8203 - val_loss: 9.5724 - val_mse: 9.5724\n",
            "Epoch 245/250\n",
            "12/12 [==============================] - 0s 5ms/step - loss: 5.7683 - mse: 5.7683 - val_loss: 9.5840 - val_mse: 9.5840\n",
            "Epoch 246/250\n",
            "12/12 [==============================] - 0s 4ms/step - loss: 5.7455 - mse: 5.7455 - val_loss: 9.5592 - val_mse: 9.5592\n",
            "Epoch 247/250\n",
            "12/12 [==============================] - 0s 5ms/step - loss: 5.7530 - mse: 5.7530 - val_loss: 9.6365 - val_mse: 9.6365\n",
            "Epoch 248/250\n",
            "12/12 [==============================] - 0s 4ms/step - loss: 5.8324 - mse: 5.8324 - val_loss: 9.5258 - val_mse: 9.5258\n",
            "Epoch 249/250\n",
            "12/12 [==============================] - 0s 4ms/step - loss: 5.7390 - mse: 5.7390 - val_loss: 9.6503 - val_mse: 9.6503\n",
            "Epoch 250/250\n",
            "12/12 [==============================] - 0s 4ms/step - loss: 5.6968 - mse: 5.6968 - val_loss: 9.5603 - val_mse: 9.5603\n"
          ]
        },
        {
          "output_type": "execute_result",
          "data": {
            "text/plain": [
              "<keras.callbacks.History at 0x7ff8000b7c90>"
            ]
          },
          "metadata": {},
          "execution_count": 5
        }
      ]
    },
    {
      "cell_type": "markdown",
      "metadata": {
        "id": "kEFaa0VQaKef"
      },
      "source": [
        "## Question 1\n",
        "\n",
        "Now that you know how MSE works, you need to plot the behavior of MSE for the synthetic errors given.  "
      ]
    },
    {
      "cell_type": "markdown",
      "metadata": {
        "id": "zc5OFsCmadXE"
      },
      "source": [
        "### Answer 1"
      ]
    },
    {
      "cell_type": "code",
      "metadata": {
        "id": "L8RF_LUDbdo2",
        "colab": {
          "base_uri": "https://localhost:8080/",
          "height": 279
        },
        "outputId": "1c53b612-1c4f-4d82-c984-1e90405a7175"
      },
      "source": [
        "errors = np.arange(-5, 6)\n",
        "n = len(errors)\n",
        "\n",
        "allMse = []\n",
        "def mse():\n",
        "  for i in range(n):\n",
        "    allMse.append((errors[i]*errors[i])/n)\n",
        "  return allMse\n",
        "plt.plot(errors, mse(), c='#ED4F46', marker='o')\n",
        "plt.grid()\n",
        "plt.xlabel('Difference between actual and estimated ouputs')\n",
        "plt.ylabel('Mean Squared Errors')\n",
        "plt.show()"
      ],
      "execution_count": 6,
      "outputs": [
        {
          "output_type": "display_data",
          "data": {
            "text/plain": [
              "<Figure size 432x288 with 1 Axes>"
            ],
            "image/png": "[encoded data removed]"
          },
          "metadata": {
            "needs_background": "light"
          }
        }
      ]
    },
    {
      "cell_type": "markdown",
      "metadata": {
        "id": "aShHwxvw6hml"
      },
      "source": [
        "## Mean Absolute Error [MAE]\n",
        "\n",
        "Mean absolute error, on the other hand, is measured as the average of sum of absolute differences between predictions and actual observations. \n",
        "\n",
        "Like MSE, this as well measures the magnitude of error without considering their direction. \n",
        "\n",
        "Unlike MSE, MAE needs more complicated tools such as linear programming to compute the gradients. Plus MAE is more robust to outliers since it does not make use of square.\n",
        "\n",
        "Let's assume there are $n$ data samples, for $i^{th}$ sample; the actual output is $y_i$ and $\\hat{y}_i$ is the estimated output from the regression model. \n",
        "\n",
        "We first take the absolute difference between the original and estimated output with $|y_i - \\hat{y}_i|2$. Then we take sum of the absolute differences for all the samples. And finally divide it by the total count of samples, which is $n$. \n",
        "\n",
        "$$MSE = \\frac{\\sum_{i=1}^{n}|y_i - \\hat{y}_i|}{n}$$"
      ]
    },
    {
      "cell_type": "code",
      "metadata": {
        "id": "MI9_GEL86hmn"
      },
      "source": [
        "model = keras.Sequential([\n",
        "        tf.keras.layers.Dense(100, activation='relu', input_shape=[len(train_features[0])]),\n",
        "        tf.keras.layers.Dense(50, activation='relu', input_shape=[len(train_features[0])]),\n",
        "        tf.keras.layers.Dense(20, activation='relu', input_shape=[len(train_features[0])]),\n",
        "        tf.keras.layers.Dense(1)\n",
        "    ])\n",
        "\n",
        "model.compile(optimizer='adam', \n",
        "              loss='mae',\n",
        "              metrics=['mae'])\n",
        "\n",
        "model.fit(train_features, train_labels, epochs=250, validation_split = 0.1)"
      ],
      "execution_count": null,
      "outputs": []
    },
    {
      "cell_type": "markdown",
      "metadata": {
        "id": "_IEl3-k3bn7N"
      },
      "source": [
        "## Question 2\n",
        "\n",
        "Now that you know how MAE works, you need to plot the behavior of MAE for the synthetic errors given.  "
      ]
    },
    {
      "cell_type": "markdown",
      "metadata": {
        "id": "HYyGYH4zbn7N"
      },
      "source": [
        "### Answer 2"
      ]
    },
    {
      "cell_type": "code",
      "metadata": {
        "id": "wK1qdGtBbn7N",
        "colab": {
          "base_uri": "https://localhost:8080/",
          "height": 279
        },
        "outputId": "c97b2c60-2970-480d-e0f6-b61f17ac257f"
      },
      "source": [
        "errors = np.arange(-5, 6)\n",
        "n = len(errors)\n",
        "\n",
        "mae = np.abs(errors)/n\n",
        "\n",
        "plt.plot(errors, mae, c='#0095B6', marker='o')\n",
        "plt.grid()\n",
        "plt.xlabel('Difference between actual and estimated ouputs')\n",
        "plt.ylabel('Mean Absolute Errors')\n",
        "plt.show()"
      ],
      "execution_count": 7,
      "outputs": [
        {
          "output_type": "display_data",
          "data": {
            "text/plain": [
              "<Figure size 432x288 with 1 Axes>"
            ],
            "image/png": "[encoded data removed]"
          },
          "metadata": {
            "needs_background": "light"
          }
        }
      ]
    },
    {
      "cell_type": "markdown",
      "metadata": {
        "id": "pIFJ88ER6s7w"
      },
      "source": [
        "## Mean Squared Logarithmic Error [MSLE]\n",
        "\n",
        "MSLE is just like MSE, but we have to take $log$ of the actual and estimated outputs because squaring and averaging. \n",
        "\n",
        "The introduction of the logarithm makes MSLE only care about the relative difference between the true and the predicted value, or in other words, it only cares about the percentual difference between them.\n",
        "\n",
        "This means that MSLE will treat small differences between small true and predicted values approximately the same as big differences between large true and predicted values.\n",
        "\n",
        "We can use MSLE when we don't want large errors to be significantly more penalized than small ones, in those cases where the range of the target value is large.\n",
        "\n",
        "*Example*: You want to predict future house prices, and your dataset includes homes that are orders of magnitude different in price. The price is a continuous value, and therefore, we want to do regression. MSLE can here be used as the loss function.\n",
        "\n",
        "$$MSLE = \\frac{\\sum_{i=1}^{n}(\\log(y_i+1) - \\log(\\hat{y}_i+1))^2}{n}$$"
      ]
    },
    {
      "cell_type": "code",
      "metadata": {
        "id": "CBkzaP9R7KnB"
      },
      "source": [
        "model = keras.Sequential([\n",
        "        tf.keras.layers.Dense(100, activation='relu', input_shape=[len(train_features[0])]),\n",
        "        tf.keras.layers.Dense(50, activation='relu', input_shape=[len(train_features[0])]),\n",
        "        tf.keras.layers.Dense(20, activation='relu', input_shape=[len(train_features[0])]),\n",
        "        tf.keras.layers.Dense(1)\n",
        "    ])\n",
        "\n",
        "model.compile(optimizer='adam', \n",
        "              loss=tf.keras.losses.MeanSquaredLogarithmicError(),\n",
        "              metrics=['mean_squared_logarithmic_error'])\n",
        "\n",
        "model.fit(train_features, train_labels, epochs=150, validation_split = 0.1)"
      ],
      "execution_count": null,
      "outputs": []
    },
    {
      "cell_type": "markdown",
      "metadata": {
        "id": "Gc_jN5XwcBu9"
      },
      "source": [
        "## Question 3\n",
        "\n",
        "Now that you know how MSLE works, you need to plot the behavior of MSLE for the synthetic errors given.  "
      ]
    },
    {
      "cell_type": "markdown",
      "metadata": {
        "id": "_USeo3P7cBu-"
      },
      "source": [
        "### Answer 3"
      ]
    },
    {
      "cell_type": "code",
      "metadata": {
        "id": "HHr_XxgUcBu-",
        "colab": {
          "base_uri": "https://localhost:8080/",
          "height": 279
        },
        "outputId": "96496b0c-43dc-4db2-9d62-1459f9f556fd"
      },
      "source": [
        "actual_outputs = np.arange(0, 51)\n",
        "n = len(actual_outputs)\n",
        "estimated_outputs = np.zeros(n)\n",
        "\n",
        "msle = (np.log(actual_outputs +1) - np.log(estimated_outputs+1))**2/n \n",
        "\n",
        "plt.plot(actual_outputs, msle, c='#F47789', marker='o')\n",
        "plt.grid()\n",
        "plt.xlabel('Actual ouputs')\n",
        "plt.ylabel('Mean Squared Logarithmic Errors')\n",
        "plt.show()"
      ],
      "execution_count": 8,
      "outputs": [
        {
          "output_type": "display_data",
          "data": {
            "text/plain": [
              "<Figure size 432x288 with 1 Axes>"
            ],
            "image/png": "[encoded data removed]"
          },
          "metadata": {
            "needs_background": "light"
          }
        }
      ]
    },
    {
      "cell_type": "markdown",
      "metadata": {
        "id": "3BylzTZ1W9Ma"
      },
      "source": [
        "## Question 4\n",
        "\n",
        "Why do we add $1$ to the outputs before passing it through $\\log()$? \n",
        "\n",
        "We have to add 1 to the outputs to make sure that there is no possibility of the outcome being 0. If the output turned out to be 0 then it would take in the log of 0 and that would be undefined which would output an error. "
      ]
    },
    {
      "cell_type": "markdown",
      "metadata": {
        "id": "jaQiO_XeYTjE"
      },
      "source": [
        "## Question 5\n",
        "\n",
        "Write your observations about MSE, MAE, and MSLE; and compare the results achieved with all 3 loss functions. \n",
        "\n",
        "Between the 3 loss functions, in the MSE and MAE functions we were able to see the graphing of the data rise and fall unlike the MSLE loss function where we only saw the data go up. "
      ]
    },
    {
      "cell_type": "markdown",
      "metadata": {
        "id": "Efp4KP5GfDL7"
      },
      "source": [
        "## Question 6\n",
        "\n",
        "Plug-in any of the loss functions from [TensorFlow](https://www.tensorflow.org/api_docs/python/tf/keras/losses) docs to the `model.compile` method and see if the difference in model performance as compared to MSE, MAE, and MSLE.\n",
        "\n",
        "\\<*Type your answer here*\\>"
      ]
    },
    {
      "cell_type": "code",
      "metadata": {
        "id": "MDWlkms1flkZ",
        "colab": {
          "base_uri": "https://localhost:8080/"
        },
        "outputId": "df01aaaf-7657-453b-af2e-b49bda18ace5"
      },
      "source": [
        "model = keras.Sequential([\n",
        "        tf.keras.layers.Dense(100, activation='relu', input_shape=[len(train_features[0])]),\n",
        "        tf.keras.layers.Dense(50, activation='relu', input_shape=[len(train_features[0])]),\n",
        "        tf.keras.layers.Dense(20, activation='relu', input_shape=[len(train_features[0])]),\n",
        "        tf.keras.layers.Dense(1)\n",
        "    ])\n",
        "\n",
        "model.compile(optimizer='adam', \n",
        "              loss= \"\"\"MAE\"\"\",\n",
        "              metrics=[\"\"\"MAE\"\"\"])\n",
        "\n",
        "model.fit(train_features, train_labels, epochs=250, validation_split = 0.1)"
      ],
      "execution_count": 14,
      "outputs": [
        {
          "output_type": "stream",
          "name": "stdout",
          "text": [
            "Epoch 1/250\n",
            "12/12 [==============================] - 1s 15ms/step - loss: 21.8989 - MAE: 21.8989 - val_loss: 20.2802 - val_MAE: 20.2802\n",
            "Epoch 2/250\n",
            "12/12 [==============================] - 0s 4ms/step - loss: 20.5408 - MAE: 20.5408 - val_loss: 18.4951 - val_MAE: 18.4951\n",
            "Epoch 3/250\n",
            "12/12 [==============================] - 0s 4ms/step - loss: 18.1916 - MAE: 18.1916 - val_loss: 15.3806 - val_MAE: 15.3806\n",
            "Epoch 4/250\n",
            "12/12 [==============================] - 0s 4ms/step - loss: 14.1038 - MAE: 14.1038 - val_loss: 10.4616 - val_MAE: 10.4616\n",
            "Epoch 5/250\n",
            "12/12 [==============================] - 0s 4ms/step - loss: 8.9403 - MAE: 8.9403 - val_loss: 5.8413 - val_MAE: 5.8413\n",
            "Epoch 6/250\n",
            "12/12 [==============================] - 0s 4ms/step - loss: 6.6100 - MAE: 6.6100 - val_loss: 5.1139 - val_MAE: 5.1139\n",
            "Epoch 7/250\n",
            "12/12 [==============================] - 0s 4ms/step - loss: 5.1530 - MAE: 5.1530 - val_loss: 3.6219 - val_MAE: 3.6219\n",
            "Epoch 8/250\n",
            "12/12 [==============================] - 0s 4ms/step - loss: 4.0747 - MAE: 4.0747 - val_loss: 3.3403 - val_MAE: 3.3403\n",
            "Epoch 9/250\n",
            "12/12 [==============================] - 0s 5ms/step - loss: 3.5267 - MAE: 3.5267 - val_loss: 3.1695 - val_MAE: 3.1695\n",
            "Epoch 10/250\n",
            "12/12 [==============================] - 0s 4ms/step - loss: 3.1834 - MAE: 3.1834 - val_loss: 3.1612 - val_MAE: 3.1612\n",
            "Epoch 11/250\n",
            "12/12 [==============================] - 0s 4ms/step - loss: 3.0284 - MAE: 3.0284 - val_loss: 3.0577 - val_MAE: 3.0577\n",
            "Epoch 12/250\n",
            "12/12 [==============================] - 0s 4ms/step - loss: 2.9006 - MAE: 2.9006 - val_loss: 2.8061 - val_MAE: 2.8061\n",
            "Epoch 13/250\n",
            "12/12 [==============================] - 0s 4ms/step - loss: 2.7349 - MAE: 2.7349 - val_loss: 2.8122 - val_MAE: 2.8122\n",
            "Epoch 14/250\n",
            "12/12 [==============================] - 0s 4ms/step - loss: 2.6415 - MAE: 2.6415 - val_loss: 2.7675 - val_MAE: 2.7675\n",
            "Epoch 15/250\n",
            "12/12 [==============================] - 0s 4ms/step - loss: 2.5382 - MAE: 2.5382 - val_loss: 2.6891 - val_MAE: 2.6891\n",
            "Epoch 16/250\n",
            "12/12 [==============================] - 0s 4ms/step - loss: 2.4778 - MAE: 2.4778 - val_loss: 2.6212 - val_MAE: 2.6212\n",
            "Epoch 17/250\n",
            "12/12 [==============================] - 0s 5ms/step - loss: 2.4122 - MAE: 2.4122 - val_loss: 2.5999 - val_MAE: 2.5999\n",
            "Epoch 18/250\n",
            "12/12 [==============================] - 0s 5ms/step - loss: 2.3733 - MAE: 2.3733 - val_loss: 2.5450 - val_MAE: 2.5450\n",
            "Epoch 19/250\n",
            "12/12 [==============================] - 0s 4ms/step - loss: 2.3344 - MAE: 2.3344 - val_loss: 2.5526 - val_MAE: 2.5526\n",
            "Epoch 20/250\n",
            "12/12 [==============================] - 0s 4ms/step - loss: 2.2931 - MAE: 2.2931 - val_loss: 2.5170 - val_MAE: 2.5170\n",
            "Epoch 21/250\n",
            "12/12 [==============================] - 0s 5ms/step - loss: 2.2342 - MAE: 2.2342 - val_loss: 2.5288 - val_MAE: 2.5288\n",
            "Epoch 22/250\n",
            "12/12 [==============================] - 0s 6ms/step - loss: 2.1859 - MAE: 2.1859 - val_loss: 2.4467 - val_MAE: 2.4467\n",
            "Epoch 23/250\n",
            "12/12 [==============================] - 0s 4ms/step - loss: 2.1600 - MAE: 2.1600 - val_loss: 2.4656 - val_MAE: 2.4656\n",
            "Epoch 24/250\n",
            "12/12 [==============================] - 0s 4ms/step - loss: 2.1700 - MAE: 2.1700 - val_loss: 2.7033 - val_MAE: 2.7033\n",
            "Epoch 25/250\n",
            "12/12 [==============================] - 0s 4ms/step - loss: 2.1664 - MAE: 2.1664 - val_loss: 2.3563 - val_MAE: 2.3563\n",
            "Epoch 26/250\n",
            "12/12 [==============================] - 0s 4ms/step - loss: 2.1383 - MAE: 2.1383 - val_loss: 2.3404 - val_MAE: 2.3404\n",
            "Epoch 27/250\n",
            "12/12 [==============================] - 0s 4ms/step - loss: 2.0792 - MAE: 2.0792 - val_loss: 2.3915 - val_MAE: 2.3915\n",
            "Epoch 28/250\n",
            "12/12 [==============================] - 0s 4ms/step - loss: 2.0560 - MAE: 2.0560 - val_loss: 2.4152 - val_MAE: 2.4152\n",
            "Epoch 29/250\n",
            "12/12 [==============================] - 0s 4ms/step - loss: 2.1011 - MAE: 2.1011 - val_loss: 2.7218 - val_MAE: 2.7218\n",
            "Epoch 30/250\n",
            "12/12 [==============================] - 0s 4ms/step - loss: 2.1269 - MAE: 2.1269 - val_loss: 2.3186 - val_MAE: 2.3186\n",
            "Epoch 31/250\n",
            "12/12 [==============================] - 0s 4ms/step - loss: 2.0332 - MAE: 2.0332 - val_loss: 2.3515 - val_MAE: 2.3515\n",
            "Epoch 32/250\n",
            "12/12 [==============================] - 0s 4ms/step - loss: 1.9987 - MAE: 1.9987 - val_loss: 2.3652 - val_MAE: 2.3652\n",
            "Epoch 33/250\n",
            "12/12 [==============================] - 0s 4ms/step - loss: 2.0042 - MAE: 2.0042 - val_loss: 2.2262 - val_MAE: 2.2262\n",
            "Epoch 34/250\n",
            "12/12 [==============================] - 0s 5ms/step - loss: 1.9769 - MAE: 1.9769 - val_loss: 2.6723 - val_MAE: 2.6723\n",
            "Epoch 35/250\n",
            "12/12 [==============================] - 0s 4ms/step - loss: 2.0709 - MAE: 2.0709 - val_loss: 2.5159 - val_MAE: 2.5159\n",
            "Epoch 36/250\n",
            "12/12 [==============================] - 0s 4ms/step - loss: 1.9907 - MAE: 1.9907 - val_loss: 2.3583 - val_MAE: 2.3583\n",
            "Epoch 37/250\n",
            "12/12 [==============================] - 0s 4ms/step - loss: 1.9284 - MAE: 1.9284 - val_loss: 2.2566 - val_MAE: 2.2566\n",
            "Epoch 38/250\n",
            "12/12 [==============================] - 0s 4ms/step - loss: 1.8855 - MAE: 1.8855 - val_loss: 2.3210 - val_MAE: 2.3210\n",
            "Epoch 39/250\n",
            "12/12 [==============================] - 0s 5ms/step - loss: 1.8954 - MAE: 1.8954 - val_loss: 2.3805 - val_MAE: 2.3805\n",
            "Epoch 40/250\n",
            "12/12 [==============================] - 0s 4ms/step - loss: 1.8631 - MAE: 1.8631 - val_loss: 2.3008 - val_MAE: 2.3008\n",
            "Epoch 41/250\n",
            "12/12 [==============================] - 0s 4ms/step - loss: 1.8690 - MAE: 1.8690 - val_loss: 2.3851 - val_MAE: 2.3851\n",
            "Epoch 42/250\n",
            "12/12 [==============================] - 0s 6ms/step - loss: 1.8501 - MAE: 1.8501 - val_loss: 2.2833 - val_MAE: 2.2833\n",
            "Epoch 43/250\n",
            "12/12 [==============================] - 0s 4ms/step - loss: 1.8493 - MAE: 1.8493 - val_loss: 2.3987 - val_MAE: 2.3987\n",
            "Epoch 44/250\n",
            "12/12 [==============================] - 0s 5ms/step - loss: 1.9191 - MAE: 1.9191 - val_loss: 2.2309 - val_MAE: 2.2309\n",
            "Epoch 45/250\n",
            "12/12 [==============================] - 0s 4ms/step - loss: 1.8537 - MAE: 1.8537 - val_loss: 2.3759 - val_MAE: 2.3759\n",
            "Epoch 46/250\n",
            "12/12 [==============================] - 0s 4ms/step - loss: 1.8327 - MAE: 1.8327 - val_loss: 2.2506 - val_MAE: 2.2506\n",
            "Epoch 47/250\n",
            "12/12 [==============================] - 0s 4ms/step - loss: 1.8345 - MAE: 1.8345 - val_loss: 2.1989 - val_MAE: 2.1989\n",
            "Epoch 48/250\n",
            "12/12 [==============================] - 0s 4ms/step - loss: 1.8055 - MAE: 1.8055 - val_loss: 2.2818 - val_MAE: 2.2818\n",
            "Epoch 49/250\n",
            "12/12 [==============================] - 0s 4ms/step - loss: 1.7661 - MAE: 1.7661 - val_loss: 2.1829 - val_MAE: 2.1829\n",
            "Epoch 50/250\n",
            "12/12 [==============================] - 0s 4ms/step - loss: 1.7432 - MAE: 1.7432 - val_loss: 2.3197 - val_MAE: 2.3197\n",
            "Epoch 51/250\n",
            "12/12 [==============================] - 0s 5ms/step - loss: 1.8172 - MAE: 1.8172 - val_loss: 2.2515 - val_MAE: 2.2515\n",
            "Epoch 52/250\n",
            "12/12 [==============================] - 0s 4ms/step - loss: 1.7306 - MAE: 1.7306 - val_loss: 2.3301 - val_MAE: 2.3301\n",
            "Epoch 53/250\n",
            "12/12 [==============================] - 0s 5ms/step - loss: 1.7321 - MAE: 1.7321 - val_loss: 2.1653 - val_MAE: 2.1653\n",
            "Epoch 54/250\n",
            "12/12 [==============================] - 0s 4ms/step - loss: 1.7257 - MAE: 1.7257 - val_loss: 2.1977 - val_MAE: 2.1977\n",
            "Epoch 55/250\n",
            "12/12 [==============================] - 0s 5ms/step - loss: 1.7303 - MAE: 1.7303 - val_loss: 2.1701 - val_MAE: 2.1701\n",
            "Epoch 56/250\n",
            "12/12 [==============================] - 0s 4ms/step - loss: 1.8402 - MAE: 1.8402 - val_loss: 2.3623 - val_MAE: 2.3623\n",
            "Epoch 57/250\n",
            "12/12 [==============================] - 0s 4ms/step - loss: 1.7633 - MAE: 1.7633 - val_loss: 2.2289 - val_MAE: 2.2289\n",
            "Epoch 58/250\n",
            "12/12 [==============================] - 0s 4ms/step - loss: 1.8955 - MAE: 1.8955 - val_loss: 2.1702 - val_MAE: 2.1702\n",
            "Epoch 59/250\n",
            "12/12 [==============================] - 0s 4ms/step - loss: 1.7745 - MAE: 1.7745 - val_loss: 2.2683 - val_MAE: 2.2683\n",
            "Epoch 60/250\n",
            "12/12 [==============================] - 0s 4ms/step - loss: 1.6719 - MAE: 1.6719 - val_loss: 2.1198 - val_MAE: 2.1198\n",
            "Epoch 61/250\n",
            "12/12 [==============================] - 0s 4ms/step - loss: 1.6475 - MAE: 1.6475 - val_loss: 2.1277 - val_MAE: 2.1277\n",
            "Epoch 62/250\n",
            "12/12 [==============================] - 0s 4ms/step - loss: 1.6368 - MAE: 1.6368 - val_loss: 2.1017 - val_MAE: 2.1017\n",
            "Epoch 63/250\n",
            "12/12 [==============================] - 0s 4ms/step - loss: 1.6393 - MAE: 1.6393 - val_loss: 2.0845 - val_MAE: 2.0845\n",
            "Epoch 64/250\n",
            "12/12 [==============================] - 0s 5ms/step - loss: 1.6545 - MAE: 1.6545 - val_loss: 2.1761 - val_MAE: 2.1761\n",
            "Epoch 65/250\n",
            "12/12 [==============================] - 0s 5ms/step - loss: 1.6223 - MAE: 1.6223 - val_loss: 2.1677 - val_MAE: 2.1677\n",
            "Epoch 66/250\n",
            "12/12 [==============================] - 0s 4ms/step - loss: 1.6155 - MAE: 1.6155 - val_loss: 2.1804 - val_MAE: 2.1804\n",
            "Epoch 67/250\n",
            "12/12 [==============================] - 0s 5ms/step - loss: 1.6923 - MAE: 1.6923 - val_loss: 2.1406 - val_MAE: 2.1406\n",
            "Epoch 68/250\n",
            "12/12 [==============================] - 0s 4ms/step - loss: 1.6005 - MAE: 1.6005 - val_loss: 2.1238 - val_MAE: 2.1238\n",
            "Epoch 69/250\n",
            "12/12 [==============================] - 0s 4ms/step - loss: 1.5893 - MAE: 1.5893 - val_loss: 2.0331 - val_MAE: 2.0331\n",
            "Epoch 70/250\n",
            "12/12 [==============================] - 0s 4ms/step - loss: 1.6595 - MAE: 1.6595 - val_loss: 2.1494 - val_MAE: 2.1494\n",
            "Epoch 71/250\n",
            "12/12 [==============================] - 0s 4ms/step - loss: 1.6253 - MAE: 1.6253 - val_loss: 2.1455 - val_MAE: 2.1455\n",
            "Epoch 72/250\n",
            "12/12 [==============================] - 0s 4ms/step - loss: 1.6108 - MAE: 1.6108 - val_loss: 2.0953 - val_MAE: 2.0953\n",
            "Epoch 73/250\n",
            "12/12 [==============================] - 0s 4ms/step - loss: 1.5902 - MAE: 1.5902 - val_loss: 2.0071 - val_MAE: 2.0071\n",
            "Epoch 74/250\n",
            "12/12 [==============================] - 0s 5ms/step - loss: 1.6773 - MAE: 1.6773 - val_loss: 2.1338 - val_MAE: 2.1338\n",
            "Epoch 75/250\n",
            "12/12 [==============================] - 0s 4ms/step - loss: 1.6360 - MAE: 1.6360 - val_loss: 2.0077 - val_MAE: 2.0077\n",
            "Epoch 76/250\n",
            "12/12 [==============================] - 0s 5ms/step - loss: 1.7926 - MAE: 1.7926 - val_loss: 2.4194 - val_MAE: 2.4194\n",
            "Epoch 77/250\n",
            "12/12 [==============================] - 0s 4ms/step - loss: 1.7602 - MAE: 1.7602 - val_loss: 2.0520 - val_MAE: 2.0520\n",
            "Epoch 78/250\n",
            "12/12 [==============================] - 0s 4ms/step - loss: 1.5701 - MAE: 1.5701 - val_loss: 2.1083 - val_MAE: 2.1083\n",
            "Epoch 79/250\n",
            "12/12 [==============================] - 0s 4ms/step - loss: 1.5798 - MAE: 1.5798 - val_loss: 2.1161 - val_MAE: 2.1161\n",
            "Epoch 80/250\n",
            "12/12 [==============================] - 0s 5ms/step - loss: 1.5516 - MAE: 1.5516 - val_loss: 2.0219 - val_MAE: 2.0219\n",
            "Epoch 81/250\n",
            "12/12 [==============================] - 0s 4ms/step - loss: 1.5426 - MAE: 1.5426 - val_loss: 2.1271 - val_MAE: 2.1271\n",
            "Epoch 82/250\n",
            "12/12 [==============================] - 0s 5ms/step - loss: 1.5156 - MAE: 1.5156 - val_loss: 2.0185 - val_MAE: 2.0185\n",
            "Epoch 83/250\n",
            "12/12 [==============================] - 0s 4ms/step - loss: 1.5038 - MAE: 1.5038 - val_loss: 1.9791 - val_MAE: 1.9791\n",
            "Epoch 84/250\n",
            "12/12 [==============================] - 0s 5ms/step - loss: 1.4857 - MAE: 1.4857 - val_loss: 1.9720 - val_MAE: 1.9720\n",
            "Epoch 85/250\n",
            "12/12 [==============================] - 0s 5ms/step - loss: 1.5012 - MAE: 1.5012 - val_loss: 2.0043 - val_MAE: 2.0043\n",
            "Epoch 86/250\n",
            "12/12 [==============================] - 0s 5ms/step - loss: 1.5569 - MAE: 1.5569 - val_loss: 2.1202 - val_MAE: 2.1202\n",
            "Epoch 87/250\n",
            "12/12 [==============================] - 0s 5ms/step - loss: 1.5765 - MAE: 1.5765 - val_loss: 2.1241 - val_MAE: 2.1241\n",
            "Epoch 88/250\n",
            "12/12 [==============================] - 0s 4ms/step - loss: 1.4972 - MAE: 1.4972 - val_loss: 2.0423 - val_MAE: 2.0423\n",
            "Epoch 89/250\n",
            "12/12 [==============================] - 0s 4ms/step - loss: 1.4874 - MAE: 1.4874 - val_loss: 1.9872 - val_MAE: 1.9872\n",
            "Epoch 90/250\n",
            "12/12 [==============================] - 0s 4ms/step - loss: 1.4833 - MAE: 1.4833 - val_loss: 1.9600 - val_MAE: 1.9600\n",
            "Epoch 91/250\n",
            "12/12 [==============================] - 0s 4ms/step - loss: 1.4957 - MAE: 1.4957 - val_loss: 1.9999 - val_MAE: 1.9999\n",
            "Epoch 92/250\n",
            "12/12 [==============================] - 0s 5ms/step - loss: 1.4859 - MAE: 1.4859 - val_loss: 2.0276 - val_MAE: 2.0276\n",
            "Epoch 93/250\n",
            "12/12 [==============================] - 0s 4ms/step - loss: 1.4169 - MAE: 1.4169 - val_loss: 1.9791 - val_MAE: 1.9791\n",
            "Epoch 94/250\n",
            "12/12 [==============================] - 0s 4ms/step - loss: 1.4491 - MAE: 1.4491 - val_loss: 1.9788 - val_MAE: 1.9788\n",
            "Epoch 95/250\n",
            "12/12 [==============================] - 0s 4ms/step - loss: 1.4137 - MAE: 1.4137 - val_loss: 1.9745 - val_MAE: 1.9745\n",
            "Epoch 96/250\n",
            "12/12 [==============================] - 0s 4ms/step - loss: 1.4861 - MAE: 1.4861 - val_loss: 1.9697 - val_MAE: 1.9697\n",
            "Epoch 97/250\n",
            "12/12 [==============================] - 0s 4ms/step - loss: 1.4294 - MAE: 1.4294 - val_loss: 1.9993 - val_MAE: 1.9993\n",
            "Epoch 98/250\n",
            "12/12 [==============================] - 0s 5ms/step - loss: 1.3992 - MAE: 1.3992 - val_loss: 1.9455 - val_MAE: 1.9455\n",
            "Epoch 99/250\n",
            "12/12 [==============================] - 0s 4ms/step - loss: 1.4418 - MAE: 1.4418 - val_loss: 1.9509 - val_MAE: 1.9509\n",
            "Epoch 100/250\n",
            "12/12 [==============================] - 0s 5ms/step - loss: 1.4669 - MAE: 1.4669 - val_loss: 1.9415 - val_MAE: 1.9415\n",
            "Epoch 101/250\n",
            "12/12 [==============================] - 0s 4ms/step - loss: 1.4233 - MAE: 1.4233 - val_loss: 1.9496 - val_MAE: 1.9496\n",
            "Epoch 102/250\n",
            "12/12 [==============================] - 0s 4ms/step - loss: 1.3805 - MAE: 1.3805 - val_loss: 2.0195 - val_MAE: 2.0195\n",
            "Epoch 103/250\n",
            "12/12 [==============================] - 0s 5ms/step - loss: 1.4040 - MAE: 1.4040 - val_loss: 1.9277 - val_MAE: 1.9277\n",
            "Epoch 104/250\n",
            "12/12 [==============================] - 0s 5ms/step - loss: 1.3816 - MAE: 1.3816 - val_loss: 1.9129 - val_MAE: 1.9129\n",
            "Epoch 105/250\n",
            "12/12 [==============================] - 0s 4ms/step - loss: 1.3629 - MAE: 1.3629 - val_loss: 1.9185 - val_MAE: 1.9185\n",
            "Epoch 106/250\n",
            "12/12 [==============================] - 0s 4ms/step - loss: 1.3880 - MAE: 1.3880 - val_loss: 1.9770 - val_MAE: 1.9770\n",
            "Epoch 107/250\n",
            "12/12 [==============================] - 0s 4ms/step - loss: 1.3931 - MAE: 1.3931 - val_loss: 1.9103 - val_MAE: 1.9103\n",
            "Epoch 108/250\n",
            "12/12 [==============================] - 0s 4ms/step - loss: 1.4268 - MAE: 1.4268 - val_loss: 2.0667 - val_MAE: 2.0667\n",
            "Epoch 109/250\n",
            "12/12 [==============================] - 0s 5ms/step - loss: 1.4177 - MAE: 1.4177 - val_loss: 1.9420 - val_MAE: 1.9420\n",
            "Epoch 110/250\n",
            "12/12 [==============================] - 0s 5ms/step - loss: 1.4336 - MAE: 1.4336 - val_loss: 1.9810 - val_MAE: 1.9810\n",
            "Epoch 111/250\n",
            "12/12 [==============================] - 0s 4ms/step - loss: 1.3829 - MAE: 1.3829 - val_loss: 1.9079 - val_MAE: 1.9079\n",
            "Epoch 112/250\n",
            "12/12 [==============================] - 0s 4ms/step - loss: 1.3434 - MAE: 1.3434 - val_loss: 1.9154 - val_MAE: 1.9154\n",
            "Epoch 113/250\n",
            "12/12 [==============================] - 0s 5ms/step - loss: 1.3791 - MAE: 1.3791 - val_loss: 1.9769 - val_MAE: 1.9769\n",
            "Epoch 114/250\n",
            "12/12 [==============================] - 0s 4ms/step - loss: 1.3314 - MAE: 1.3314 - val_loss: 1.8747 - val_MAE: 1.8747\n",
            "Epoch 115/250\n",
            "12/12 [==============================] - 0s 4ms/step - loss: 1.3295 - MAE: 1.3295 - val_loss: 1.8703 - val_MAE: 1.8703\n",
            "Epoch 116/250\n",
            "12/12 [==============================] - 0s 5ms/step - loss: 1.3028 - MAE: 1.3028 - val_loss: 1.9203 - val_MAE: 1.9203\n",
            "Epoch 117/250\n",
            "12/12 [==============================] - 0s 4ms/step - loss: 1.3157 - MAE: 1.3157 - val_loss: 1.9205 - val_MAE: 1.9205\n",
            "Epoch 118/250\n",
            "12/12 [==============================] - 0s 4ms/step - loss: 1.3289 - MAE: 1.3289 - val_loss: 1.8961 - val_MAE: 1.8961\n",
            "Epoch 119/250\n",
            "12/12 [==============================] - 0s 4ms/step - loss: 1.2995 - MAE: 1.2995 - val_loss: 1.8778 - val_MAE: 1.8778\n",
            "Epoch 120/250\n",
            "12/12 [==============================] - 0s 4ms/step - loss: 1.3092 - MAE: 1.3092 - val_loss: 1.8651 - val_MAE: 1.8651\n",
            "Epoch 121/250\n",
            "12/12 [==============================] - 0s 4ms/step - loss: 1.3103 - MAE: 1.3103 - val_loss: 1.9502 - val_MAE: 1.9502\n",
            "Epoch 122/250\n",
            "12/12 [==============================] - 0s 4ms/step - loss: 1.3319 - MAE: 1.3319 - val_loss: 1.8824 - val_MAE: 1.8824\n",
            "Epoch 123/250\n",
            "12/12 [==============================] - 0s 4ms/step - loss: 1.3044 - MAE: 1.3044 - val_loss: 1.8970 - val_MAE: 1.8970\n",
            "Epoch 124/250\n",
            "12/12 [==============================] - 0s 4ms/step - loss: 1.3170 - MAE: 1.3170 - val_loss: 1.8900 - val_MAE: 1.8900\n",
            "Epoch 125/250\n",
            "12/12 [==============================] - 0s 4ms/step - loss: 1.2954 - MAE: 1.2954 - val_loss: 1.8707 - val_MAE: 1.8707\n",
            "Epoch 126/250\n",
            "12/12 [==============================] - 0s 5ms/step - loss: 1.3315 - MAE: 1.3315 - val_loss: 1.8911 - val_MAE: 1.8911\n",
            "Epoch 127/250\n",
            "12/12 [==============================] - 0s 4ms/step - loss: 1.3827 - MAE: 1.3827 - val_loss: 1.9266 - val_MAE: 1.9266\n",
            "Epoch 128/250\n",
            "12/12 [==============================] - 0s 5ms/step - loss: 1.3647 - MAE: 1.3647 - val_loss: 1.9139 - val_MAE: 1.9139\n",
            "Epoch 129/250\n",
            "12/12 [==============================] - 0s 4ms/step - loss: 1.3508 - MAE: 1.3508 - val_loss: 1.9570 - val_MAE: 1.9570\n",
            "Epoch 130/250\n",
            "12/12 [==============================] - 0s 4ms/step - loss: 1.3151 - MAE: 1.3151 - val_loss: 1.8678 - val_MAE: 1.8678\n",
            "Epoch 131/250\n",
            "12/12 [==============================] - 0s 4ms/step - loss: 1.2567 - MAE: 1.2567 - val_loss: 1.8653 - val_MAE: 1.8653\n",
            "Epoch 132/250\n",
            "12/12 [==============================] - 0s 5ms/step - loss: 1.2593 - MAE: 1.2593 - val_loss: 1.8434 - val_MAE: 1.8434\n",
            "Epoch 133/250\n",
            "12/12 [==============================] - 0s 4ms/step - loss: 1.2921 - MAE: 1.2921 - val_loss: 1.8305 - val_MAE: 1.8305\n",
            "Epoch 134/250\n",
            "12/12 [==============================] - 0s 4ms/step - loss: 1.3141 - MAE: 1.3141 - val_loss: 1.9636 - val_MAE: 1.9636\n",
            "Epoch 135/250\n",
            "12/12 [==============================] - 0s 4ms/step - loss: 1.3728 - MAE: 1.3728 - val_loss: 1.9824 - val_MAE: 1.9824\n",
            "Epoch 136/250\n",
            "12/12 [==============================] - 0s 5ms/step - loss: 1.2667 - MAE: 1.2667 - val_loss: 1.8496 - val_MAE: 1.8496\n",
            "Epoch 137/250\n",
            "12/12 [==============================] - 0s 4ms/step - loss: 1.2545 - MAE: 1.2545 - val_loss: 1.8252 - val_MAE: 1.8252\n",
            "Epoch 138/250\n",
            "12/12 [==============================] - 0s 4ms/step - loss: 1.2415 - MAE: 1.2415 - val_loss: 1.8492 - val_MAE: 1.8492\n",
            "Epoch 139/250\n",
            "12/12 [==============================] - 0s 4ms/step - loss: 1.2109 - MAE: 1.2109 - val_loss: 1.8501 - val_MAE: 1.8501\n",
            "Epoch 140/250\n",
            "12/12 [==============================] - 0s 4ms/step - loss: 1.2474 - MAE: 1.2474 - val_loss: 1.7995 - val_MAE: 1.7995\n",
            "Epoch 141/250\n",
            "12/12 [==============================] - 0s 4ms/step - loss: 1.2431 - MAE: 1.2431 - val_loss: 1.8626 - val_MAE: 1.8626\n",
            "Epoch 142/250\n",
            "12/12 [==============================] - 0s 4ms/step - loss: 1.2129 - MAE: 1.2129 - val_loss: 1.8366 - val_MAE: 1.8366\n",
            "Epoch 143/250\n",
            "12/12 [==============================] - 0s 4ms/step - loss: 1.2136 - MAE: 1.2136 - val_loss: 1.8105 - val_MAE: 1.8105\n",
            "Epoch 144/250\n",
            "12/12 [==============================] - 0s 4ms/step - loss: 1.2164 - MAE: 1.2164 - val_loss: 1.8299 - val_MAE: 1.8299\n",
            "Epoch 145/250\n",
            "12/12 [==============================] - 0s 4ms/step - loss: 1.2223 - MAE: 1.2223 - val_loss: 1.8166 - val_MAE: 1.8166\n",
            "Epoch 146/250\n",
            "12/12 [==============================] - 0s 4ms/step - loss: 1.2496 - MAE: 1.2496 - val_loss: 1.9154 - val_MAE: 1.9154\n",
            "Epoch 147/250\n",
            "12/12 [==============================] - 0s 4ms/step - loss: 1.2524 - MAE: 1.2524 - val_loss: 1.8417 - val_MAE: 1.8417\n",
            "Epoch 148/250\n",
            "12/12 [==============================] - 0s 4ms/step - loss: 1.2609 - MAE: 1.2609 - val_loss: 1.8414 - val_MAE: 1.8414\n",
            "Epoch 149/250\n",
            "12/12 [==============================] - 0s 5ms/step - loss: 1.2847 - MAE: 1.2847 - val_loss: 1.7509 - val_MAE: 1.7509\n",
            "Epoch 150/250\n",
            "12/12 [==============================] - 0s 4ms/step - loss: 1.2045 - MAE: 1.2045 - val_loss: 1.8169 - val_MAE: 1.8169\n",
            "Epoch 151/250\n",
            "12/12 [==============================] - 0s 5ms/step - loss: 1.2169 - MAE: 1.2169 - val_loss: 1.9421 - val_MAE: 1.9421\n",
            "Epoch 152/250\n",
            "12/12 [==============================] - 0s 5ms/step - loss: 1.2417 - MAE: 1.2417 - val_loss: 1.7987 - val_MAE: 1.7987\n",
            "Epoch 153/250\n",
            "12/12 [==============================] - 0s 5ms/step - loss: 1.1942 - MAE: 1.1942 - val_loss: 1.8360 - val_MAE: 1.8360\n",
            "Epoch 154/250\n",
            "12/12 [==============================] - 0s 4ms/step - loss: 1.2673 - MAE: 1.2673 - val_loss: 1.8600 - val_MAE: 1.8600\n",
            "Epoch 155/250\n",
            "12/12 [==============================] - 0s 6ms/step - loss: 1.2887 - MAE: 1.2887 - val_loss: 1.8414 - val_MAE: 1.8414\n",
            "Epoch 156/250\n",
            "12/12 [==============================] - 0s 5ms/step - loss: 1.2677 - MAE: 1.2677 - val_loss: 1.8726 - val_MAE: 1.8726\n",
            "Epoch 157/250\n",
            "12/12 [==============================] - 0s 4ms/step - loss: 1.2462 - MAE: 1.2462 - val_loss: 1.8273 - val_MAE: 1.8273\n",
            "Epoch 158/250\n",
            "12/12 [==============================] - 0s 4ms/step - loss: 1.2073 - MAE: 1.2073 - val_loss: 1.7935 - val_MAE: 1.7935\n",
            "Epoch 159/250\n",
            "12/12 [==============================] - 0s 4ms/step - loss: 1.1847 - MAE: 1.1847 - val_loss: 1.7700 - val_MAE: 1.7700\n",
            "Epoch 160/250\n",
            "12/12 [==============================] - 0s 4ms/step - loss: 1.1790 - MAE: 1.1790 - val_loss: 1.7888 - val_MAE: 1.7888\n",
            "Epoch 161/250\n",
            "12/12 [==============================] - 0s 4ms/step - loss: 1.1785 - MAE: 1.1785 - val_loss: 1.8422 - val_MAE: 1.8422\n",
            "Epoch 162/250\n",
            "12/12 [==============================] - 0s 4ms/step - loss: 1.2523 - MAE: 1.2523 - val_loss: 1.9488 - val_MAE: 1.9488\n",
            "Epoch 163/250\n",
            "12/12 [==============================] - 0s 5ms/step - loss: 1.2596 - MAE: 1.2596 - val_loss: 1.7615 - val_MAE: 1.7615\n",
            "Epoch 164/250\n",
            "12/12 [==============================] - 0s 5ms/step - loss: 1.1648 - MAE: 1.1648 - val_loss: 1.7679 - val_MAE: 1.7679\n",
            "Epoch 165/250\n",
            "12/12 [==============================] - 0s 5ms/step - loss: 1.1598 - MAE: 1.1598 - val_loss: 1.7943 - val_MAE: 1.7943\n",
            "Epoch 166/250\n",
            "12/12 [==============================] - 0s 5ms/step - loss: 1.1910 - MAE: 1.1910 - val_loss: 1.8086 - val_MAE: 1.8086\n",
            "Epoch 167/250\n",
            "12/12 [==============================] - 0s 4ms/step - loss: 1.2341 - MAE: 1.2341 - val_loss: 1.7865 - val_MAE: 1.7865\n",
            "Epoch 168/250\n",
            "12/12 [==============================] - 0s 4ms/step - loss: 1.1357 - MAE: 1.1357 - val_loss: 1.7750 - val_MAE: 1.7750\n",
            "Epoch 169/250\n",
            "12/12 [==============================] - 0s 4ms/step - loss: 1.1504 - MAE: 1.1504 - val_loss: 1.7863 - val_MAE: 1.7863\n",
            "Epoch 170/250\n",
            "12/12 [==============================] - 0s 5ms/step - loss: 1.1846 - MAE: 1.1846 - val_loss: 1.7407 - val_MAE: 1.7407\n",
            "Epoch 171/250\n",
            "12/12 [==============================] - 0s 5ms/step - loss: 1.1384 - MAE: 1.1384 - val_loss: 1.7882 - val_MAE: 1.7882\n",
            "Epoch 172/250\n",
            "12/12 [==============================] - 0s 4ms/step - loss: 1.1679 - MAE: 1.1679 - val_loss: 1.7357 - val_MAE: 1.7357\n",
            "Epoch 173/250\n",
            "12/12 [==============================] - 0s 5ms/step - loss: 1.1205 - MAE: 1.1205 - val_loss: 1.7755 - val_MAE: 1.7755\n",
            "Epoch 174/250\n",
            "12/12 [==============================] - 0s 4ms/step - loss: 1.1796 - MAE: 1.1796 - val_loss: 1.7836 - val_MAE: 1.7836\n",
            "Epoch 175/250\n",
            "12/12 [==============================] - 0s 4ms/step - loss: 1.1287 - MAE: 1.1287 - val_loss: 1.7573 - val_MAE: 1.7573\n",
            "Epoch 176/250\n",
            "12/12 [==============================] - 0s 4ms/step - loss: 1.1108 - MAE: 1.1108 - val_loss: 1.7588 - val_MAE: 1.7588\n",
            "Epoch 177/250\n",
            "12/12 [==============================] - 0s 4ms/step - loss: 1.1512 - MAE: 1.1512 - val_loss: 1.7314 - val_MAE: 1.7314\n",
            "Epoch 178/250\n",
            "12/12 [==============================] - 0s 4ms/step - loss: 1.1219 - MAE: 1.1219 - val_loss: 1.7284 - val_MAE: 1.7284\n",
            "Epoch 179/250\n",
            "12/12 [==============================] - 0s 5ms/step - loss: 1.0821 - MAE: 1.0821 - val_loss: 1.7632 - val_MAE: 1.7632\n",
            "Epoch 180/250\n",
            "12/12 [==============================] - 0s 5ms/step - loss: 1.1371 - MAE: 1.1371 - val_loss: 1.7054 - val_MAE: 1.7054\n",
            "Epoch 181/250\n",
            "12/12 [==============================] - 0s 5ms/step - loss: 1.1570 - MAE: 1.1570 - val_loss: 1.8294 - val_MAE: 1.8294\n",
            "Epoch 182/250\n",
            "12/12 [==============================] - 0s 4ms/step - loss: 1.1914 - MAE: 1.1914 - val_loss: 1.7224 - val_MAE: 1.7224\n",
            "Epoch 183/250\n",
            "12/12 [==============================] - 0s 5ms/step - loss: 1.2006 - MAE: 1.2006 - val_loss: 1.7412 - val_MAE: 1.7412\n",
            "Epoch 184/250\n",
            "12/12 [==============================] - 0s 4ms/step - loss: 1.1517 - MAE: 1.1517 - val_loss: 1.7537 - val_MAE: 1.7537\n",
            "Epoch 185/250\n",
            "12/12 [==============================] - 0s 7ms/step - loss: 1.1695 - MAE: 1.1695 - val_loss: 1.8052 - val_MAE: 1.8052\n",
            "Epoch 186/250\n",
            "12/12 [==============================] - 0s 5ms/step - loss: 1.1532 - MAE: 1.1532 - val_loss: 1.6674 - val_MAE: 1.6674\n",
            "Epoch 187/250\n",
            "12/12 [==============================] - 0s 4ms/step - loss: 1.0766 - MAE: 1.0766 - val_loss: 1.7402 - val_MAE: 1.7402\n",
            "Epoch 188/250\n",
            "12/12 [==============================] - 0s 5ms/step - loss: 1.1051 - MAE: 1.1051 - val_loss: 1.7125 - val_MAE: 1.7125\n",
            "Epoch 189/250\n",
            "12/12 [==============================] - 0s 5ms/step - loss: 1.0545 - MAE: 1.0545 - val_loss: 1.7061 - val_MAE: 1.7061\n",
            "Epoch 190/250\n",
            "12/12 [==============================] - 0s 5ms/step - loss: 1.0406 - MAE: 1.0406 - val_loss: 1.6617 - val_MAE: 1.6617\n",
            "Epoch 191/250\n",
            "12/12 [==============================] - 0s 5ms/step - loss: 1.0594 - MAE: 1.0594 - val_loss: 1.7335 - val_MAE: 1.7335\n",
            "Epoch 192/250\n",
            "12/12 [==============================] - 0s 4ms/step - loss: 1.1326 - MAE: 1.1326 - val_loss: 1.6931 - val_MAE: 1.6931\n",
            "Epoch 193/250\n",
            "12/12 [==============================] - 0s 4ms/step - loss: 1.1023 - MAE: 1.1023 - val_loss: 1.6935 - val_MAE: 1.6935\n",
            "Epoch 194/250\n",
            "12/12 [==============================] - 0s 4ms/step - loss: 1.1116 - MAE: 1.1116 - val_loss: 1.7191 - val_MAE: 1.7191\n",
            "Epoch 195/250\n",
            "12/12 [==============================] - 0s 5ms/step - loss: 1.0691 - MAE: 1.0691 - val_loss: 1.7262 - val_MAE: 1.7262\n",
            "Epoch 196/250\n",
            "12/12 [==============================] - 0s 4ms/step - loss: 1.0912 - MAE: 1.0912 - val_loss: 1.7484 - val_MAE: 1.7484\n",
            "Epoch 197/250\n",
            "12/12 [==============================] - 0s 5ms/step - loss: 1.1295 - MAE: 1.1295 - val_loss: 1.6788 - val_MAE: 1.6788\n",
            "Epoch 198/250\n",
            "12/12 [==============================] - 0s 5ms/step - loss: 1.0424 - MAE: 1.0424 - val_loss: 1.6617 - val_MAE: 1.6617\n",
            "Epoch 199/250\n",
            "12/12 [==============================] - 0s 4ms/step - loss: 1.1354 - MAE: 1.1354 - val_loss: 1.6790 - val_MAE: 1.6790\n",
            "Epoch 200/250\n",
            "12/12 [==============================] - 0s 4ms/step - loss: 1.1006 - MAE: 1.1006 - val_loss: 1.7134 - val_MAE: 1.7134\n",
            "Epoch 201/250\n",
            "12/12 [==============================] - 0s 4ms/step - loss: 1.0246 - MAE: 1.0246 - val_loss: 1.6872 - val_MAE: 1.6872\n",
            "Epoch 202/250\n",
            "12/12 [==============================] - 0s 4ms/step - loss: 1.0730 - MAE: 1.0730 - val_loss: 1.6598 - val_MAE: 1.6598\n",
            "Epoch 203/250\n",
            "12/12 [==============================] - 0s 4ms/step - loss: 1.0121 - MAE: 1.0121 - val_loss: 1.6915 - val_MAE: 1.6915\n",
            "Epoch 204/250\n",
            "12/12 [==============================] - 0s 4ms/step - loss: 1.0110 - MAE: 1.0110 - val_loss: 1.6496 - val_MAE: 1.6496\n",
            "Epoch 205/250\n",
            "12/12 [==============================] - 0s 4ms/step - loss: 1.0060 - MAE: 1.0060 - val_loss: 1.7513 - val_MAE: 1.7513\n",
            "Epoch 206/250\n",
            "12/12 [==============================] - 0s 4ms/step - loss: 1.0160 - MAE: 1.0160 - val_loss: 1.6850 - val_MAE: 1.6850\n",
            "Epoch 207/250\n",
            "12/12 [==============================] - 0s 5ms/step - loss: 1.0118 - MAE: 1.0118 - val_loss: 1.6794 - val_MAE: 1.6794\n",
            "Epoch 208/250\n",
            "12/12 [==============================] - 0s 4ms/step - loss: 0.9851 - MAE: 0.9851 - val_loss: 1.6772 - val_MAE: 1.6772\n",
            "Epoch 209/250\n",
            "12/12 [==============================] - 0s 4ms/step - loss: 1.0673 - MAE: 1.0673 - val_loss: 1.7275 - val_MAE: 1.7275\n",
            "Epoch 210/250\n",
            "12/12 [==============================] - 0s 5ms/step - loss: 1.0142 - MAE: 1.0142 - val_loss: 1.7175 - val_MAE: 1.7175\n",
            "Epoch 211/250\n",
            "12/12 [==============================] - 0s 5ms/step - loss: 1.0342 - MAE: 1.0342 - val_loss: 1.7037 - val_MAE: 1.7037\n",
            "Epoch 212/250\n",
            "12/12 [==============================] - 0s 5ms/step - loss: 1.0074 - MAE: 1.0074 - val_loss: 1.6868 - val_MAE: 1.6868\n",
            "Epoch 213/250\n",
            "12/12 [==============================] - 0s 5ms/step - loss: 0.9961 - MAE: 0.9961 - val_loss: 1.7024 - val_MAE: 1.7024\n",
            "Epoch 214/250\n",
            "12/12 [==============================] - 0s 5ms/step - loss: 0.9939 - MAE: 0.9939 - val_loss: 1.6953 - val_MAE: 1.6953\n",
            "Epoch 215/250\n",
            "12/12 [==============================] - 0s 5ms/step - loss: 0.9884 - MAE: 0.9884 - val_loss: 1.7012 - val_MAE: 1.7012\n",
            "Epoch 216/250\n",
            "12/12 [==============================] - 0s 5ms/step - loss: 1.0413 - MAE: 1.0413 - val_loss: 1.6863 - val_MAE: 1.6863\n",
            "Epoch 217/250\n",
            "12/12 [==============================] - 0s 5ms/step - loss: 0.9941 - MAE: 0.9941 - val_loss: 1.7247 - val_MAE: 1.7247\n",
            "Epoch 218/250\n",
            "12/12 [==============================] - 0s 5ms/step - loss: 1.0210 - MAE: 1.0210 - val_loss: 1.6788 - val_MAE: 1.6788\n",
            "Epoch 219/250\n",
            "12/12 [==============================] - 0s 5ms/step - loss: 1.0490 - MAE: 1.0490 - val_loss: 1.7976 - val_MAE: 1.7976\n",
            "Epoch 220/250\n",
            "12/12 [==============================] - 0s 5ms/step - loss: 1.0273 - MAE: 1.0273 - val_loss: 1.6936 - val_MAE: 1.6936\n",
            "Epoch 221/250\n",
            "12/12 [==============================] - 0s 5ms/step - loss: 1.0015 - MAE: 1.0015 - val_loss: 1.7048 - val_MAE: 1.7048\n",
            "Epoch 222/250\n",
            "12/12 [==============================] - 0s 5ms/step - loss: 1.0050 - MAE: 1.0050 - val_loss: 1.6997 - val_MAE: 1.6997\n",
            "Epoch 223/250\n",
            "12/12 [==============================] - 0s 6ms/step - loss: 0.9741 - MAE: 0.9741 - val_loss: 1.7407 - val_MAE: 1.7407\n",
            "Epoch 224/250\n",
            "12/12 [==============================] - 0s 5ms/step - loss: 1.0050 - MAE: 1.0050 - val_loss: 1.7039 - val_MAE: 1.7039\n",
            "Epoch 225/250\n",
            "12/12 [==============================] - 0s 5ms/step - loss: 0.9834 - MAE: 0.9834 - val_loss: 1.8173 - val_MAE: 1.8173\n",
            "Epoch 226/250\n",
            "12/12 [==============================] - 0s 5ms/step - loss: 1.0425 - MAE: 1.0425 - val_loss: 1.7373 - val_MAE: 1.7373\n",
            "Epoch 227/250\n",
            "12/12 [==============================] - 0s 5ms/step - loss: 1.0089 - MAE: 1.0089 - val_loss: 1.7762 - val_MAE: 1.7762\n",
            "Epoch 228/250\n",
            "12/12 [==============================] - 0s 4ms/step - loss: 0.9788 - MAE: 0.9788 - val_loss: 1.7162 - val_MAE: 1.7162\n",
            "Epoch 229/250\n",
            "12/12 [==============================] - 0s 6ms/step - loss: 0.9990 - MAE: 0.9990 - val_loss: 1.8019 - val_MAE: 1.8019\n",
            "Epoch 230/250\n",
            "12/12 [==============================] - 0s 4ms/step - loss: 0.9992 - MAE: 0.9992 - val_loss: 1.7848 - val_MAE: 1.7848\n",
            "Epoch 231/250\n",
            "12/12 [==============================] - 0s 5ms/step - loss: 1.0342 - MAE: 1.0342 - val_loss: 1.7028 - val_MAE: 1.7028\n",
            "Epoch 232/250\n",
            "12/12 [==============================] - 0s 5ms/step - loss: 0.9275 - MAE: 0.9275 - val_loss: 1.7556 - val_MAE: 1.7556\n",
            "Epoch 233/250\n",
            "12/12 [==============================] - 0s 4ms/step - loss: 0.9381 - MAE: 0.9381 - val_loss: 1.7810 - val_MAE: 1.7810\n",
            "Epoch 234/250\n",
            "12/12 [==============================] - 0s 5ms/step - loss: 0.9462 - MAE: 0.9462 - val_loss: 1.7261 - val_MAE: 1.7261\n",
            "Epoch 235/250\n",
            "12/12 [==============================] - 0s 4ms/step - loss: 0.9618 - MAE: 0.9618 - val_loss: 1.7800 - val_MAE: 1.7800\n",
            "Epoch 236/250\n",
            "12/12 [==============================] - 0s 5ms/step - loss: 0.9783 - MAE: 0.9783 - val_loss: 1.7857 - val_MAE: 1.7857\n",
            "Epoch 237/250\n",
            "12/12 [==============================] - 0s 5ms/step - loss: 0.9447 - MAE: 0.9447 - val_loss: 1.7686 - val_MAE: 1.7686\n",
            "Epoch 238/250\n",
            "12/12 [==============================] - 0s 4ms/step - loss: 0.9332 - MAE: 0.9332 - val_loss: 1.7783 - val_MAE: 1.7783\n",
            "Epoch 239/250\n",
            "12/12 [==============================] - 0s 6ms/step - loss: 0.9616 - MAE: 0.9616 - val_loss: 1.6866 - val_MAE: 1.6866\n",
            "Epoch 240/250\n",
            "12/12 [==============================] - 0s 5ms/step - loss: 0.9243 - MAE: 0.9243 - val_loss: 1.6641 - val_MAE: 1.6641\n",
            "Epoch 241/250\n",
            "12/12 [==============================] - 0s 4ms/step - loss: 0.9735 - MAE: 0.9735 - val_loss: 1.6827 - val_MAE: 1.6827\n",
            "Epoch 242/250\n",
            "12/12 [==============================] - 0s 5ms/step - loss: 1.0116 - MAE: 1.0116 - val_loss: 1.8372 - val_MAE: 1.8372\n",
            "Epoch 243/250\n",
            "12/12 [==============================] - 0s 5ms/step - loss: 1.0146 - MAE: 1.0146 - val_loss: 1.6920 - val_MAE: 1.6920\n",
            "Epoch 244/250\n",
            "12/12 [==============================] - 0s 4ms/step - loss: 0.9396 - MAE: 0.9396 - val_loss: 1.6616 - val_MAE: 1.6616\n",
            "Epoch 245/250\n",
            "12/12 [==============================] - 0s 5ms/step - loss: 0.9285 - MAE: 0.9285 - val_loss: 1.7300 - val_MAE: 1.7300\n",
            "Epoch 246/250\n",
            "12/12 [==============================] - 0s 5ms/step - loss: 0.9300 - MAE: 0.9300 - val_loss: 1.7476 - val_MAE: 1.7476\n",
            "Epoch 247/250\n",
            "12/12 [==============================] - 0s 5ms/step - loss: 0.9956 - MAE: 0.9956 - val_loss: 1.6832 - val_MAE: 1.6832\n",
            "Epoch 248/250\n",
            "12/12 [==============================] - 0s 5ms/step - loss: 0.9175 - MAE: 0.9175 - val_loss: 1.7092 - val_MAE: 1.7092\n",
            "Epoch 249/250\n",
            "12/12 [==============================] - 0s 5ms/step - loss: 0.9865 - MAE: 0.9865 - val_loss: 1.6921 - val_MAE: 1.6921\n",
            "Epoch 250/250\n",
            "12/12 [==============================] - 0s 5ms/step - loss: 0.9814 - MAE: 0.9814 - val_loss: 1.7265 - val_MAE: 1.7265\n"
          ]
        },
        {
          "output_type": "execute_result",
          "data": {
            "text/plain": [
              "<keras.callbacks.History at 0x7ff77f6c7710>"
            ]
          },
          "metadata": {},
          "execution_count": 14
        }
      ]
    },
    {
      "cell_type": "markdown",
      "metadata": {
        "id": "mupD9JvzD1BU"
      },
      "source": [
        "#Fun Fact\n",
        "\n",
        "Google Translate is getting better all the time, but it's still not perfect. Translate a sentence into another language and back into English, and you might get a hilarious surprise. That's what Malinda Kathleen Reese got when she reverse Google Translated the lyrics to \"Let It Go\" from Disney's Frozen into Chinese, Macedonian, French, Polish, Creole, Tamil and others. It doesn't come out as utter gibberish, but as a slightly off version with a slightly different message from the original. Which makes it even funnier. Plus, Malinda can really sing.\n",
        "\n",
        "Link to video: https://www.youtube.com/watch?v=2bVAoVlFYf0"
      ]
    },
    {
      "cell_type": "markdown",
      "metadata": {
        "id": "5t0A5Xui7sum"
      },
      "source": [
        "# Classification Losses\n",
        "\n",
        "In classification, the outputs are in form of a class or a category. The label or number assigned to the classes do not have a numerical meaning. \n",
        "\n",
        "For example, an input with class label 0 cannot be numerically compared with an input with class label 1. "
      ]
    },
    {
      "cell_type": "code",
      "metadata": {
        "id": "ERGOjkbwjCT1"
      },
      "source": [
        "(training_images, training_labels), (test_images, test_labels) = tf.keras.datasets.cifar100.load_data(label_mode=\"coarse\")\n",
        "\n",
        "training_images=training_images.reshape(50000, 32, 32, 3)\n",
        "training_images=training_images / 255.0\n",
        "test_images = test_images.reshape(10000, 32, 32, 3)\n",
        "test_images=test_images/255.0"
      ],
      "execution_count": null,
      "outputs": []
    },
    {
      "cell_type": "markdown",
      "metadata": {
        "id": "9EbtSlPYZYju"
      },
      "source": [
        "## Kullback-Leibler Divergence [KDL]\n",
        "\n",
        "Kullback Leibler Divergence Loss is a measure of how a distribution varies from a reference distribution (or a baseline distribution). A Kullback Leibler Divergence Loss of zero means that both the probability distributions are identical.\n",
        "\n",
        "The number of information lost in the predicted distribution is used as a measure.\n",
        "\n",
        "$$KDL(p||q) = \\int_x p(x) \\log \\frac{p(x)}{q(x)} dx$$"
      ]
    },
    {
      "cell_type": "code",
      "metadata": {
        "id": "IkyXvdIQZZyO"
      },
      "source": [
        "model = tf.keras.models.Sequential([\n",
        "  tf.keras.layers.Conv2D(32, (3,3), activation='relu', input_shape=(32, 32, 3)),\n",
        "  tf.keras.layers.MaxPooling2D(2, 2),\n",
        "  tf.keras.layers.Conv2D(32, (3,3), activation='relu'),\n",
        "  tf.keras.layers.MaxPooling2D(2, 2),\n",
        "  tf.keras.layers.Conv2D(32, (3,3), activation='relu'),\n",
        "  tf.keras.layers.MaxPooling2D(2, 2),\n",
        "  tf.keras.layers.Flatten(),\n",
        "  tf.keras.layers.Dense(128, activation='relu'),\n",
        "  tf.keras.layers.Dense(100, activation='softmax')\n",
        "])\n",
        "\n",
        "\n",
        "model.compile(optimizer='adam', loss='kl_divergence', metrics=['accuracy'])\n",
        "model.fit(training_images, training_labels, epochs=50, validation_data=(test_images, test_labels))"
      ],
      "execution_count": null,
      "outputs": []
    },
    {
      "cell_type": "markdown",
      "metadata": {
        "id": "AIOrqUGTYjD8"
      },
      "source": [
        "##Binary Cross Entropy\n",
        "Cross-entropy is a measure from the field of information theory, building upon entropy and generally calculating the difference between two probability distributions. It is closely related to but is different from KL divergence that calculates the relative entropy between two probability distributions, whereas cross-entropy can be thought to calculate the total entropy between the distributions.\n",
        "\n",
        "Cross-entropy is also related to and often confused with logistic loss, called log loss. Although the two measures are derived from a different source, when used as loss functions for classification models, both measures calculate the same quantity and can be used interchangeably.\n",
        "\n",
        "Binary crossentropy is a loss function that is used in binary classification tasks. These are tasks that answer a question with only two choices (yes or no, A or B, 0 or 1, left or right). Several independent such questions can be answered at the same time, as in multi-label classification or in binary image segmentation. Formally, this loss is equal to the average of the categorical crossentropy loss on many two-category tasks.\n",
        "\n",
        "$$BCE = -\\frac{1}{N} \\sum_{i=1}^N y_i \\cdot \\log(p(y_i)) + (1-y_i) \\cdot \\log(1- p(y_i))$$"
      ]
    },
    {
      "cell_type": "code",
      "source": [
        "training_labels = tf.reshape(tf.one_hot(training_labels, 100), [training_labels.shape[0], 100])\n",
        "print(training_labels.shape)\n",
        "\n",
        "test_labels = tf.reshape(tf.one_hot(test_labels, 100), [test_labels.shape[0], 100])\n",
        "print(test_labels.shape)"
      ],
      "metadata": {
        "id": "Ckc0jYu_LwkP",
        "colab": {
          "base_uri": "https://localhost:8080/",
          "height": 236
        },
        "outputId": "f515ce30-5005-47ec-953b-29e57ee453b5"
      },
      "execution_count": 18,
      "outputs": [
        {
          "output_type": "error",
          "ename": "NameError",
          "evalue": "ignored",
          "traceback": [
            "\u001b[0;31m---------------------------------------------------------------------------\u001b[0m",
            "\u001b[0;31mNameError\u001b[0m                                 Traceback (most recent call last)",
            "\u001b[0;32m<ipython-input-18-3ea663177fe5>\u001b[0m in \u001b[0;36m<module>\u001b[0;34m()\u001b[0m\n\u001b[0;32m----> 1\u001b[0;31m \u001b[0mtraining_labels\u001b[0m \u001b[0;34m=\u001b[0m \u001b[0mtf\u001b[0m\u001b[0;34m.\u001b[0m\u001b[0mreshape\u001b[0m\u001b[0;34m(\u001b[0m\u001b[0mtf\u001b[0m\u001b[0;34m.\u001b[0m\u001b[0mone_hot\u001b[0m\u001b[0;34m(\u001b[0m\u001b[0mtraining_labels\u001b[0m\u001b[0;34m,\u001b[0m \u001b[0;36m100\u001b[0m\u001b[0;34m)\u001b[0m\u001b[0;34m,\u001b[0m \u001b[0;34m[\u001b[0m\u001b[0mtraining_labels\u001b[0m\u001b[0;34m.\u001b[0m\u001b[0mshape\u001b[0m\u001b[0;34m[\u001b[0m\u001b[0;36m0\u001b[0m\u001b[0;34m]\u001b[0m\u001b[0;34m,\u001b[0m \u001b[0;36m100\u001b[0m\u001b[0;34m]\u001b[0m\u001b[0;34m)\u001b[0m\u001b[0;34m\u001b[0m\u001b[0;34m\u001b[0m\u001b[0m\n\u001b[0m\u001b[1;32m      2\u001b[0m \u001b[0mprint\u001b[0m\u001b[0;34m(\u001b[0m\u001b[0mtraining_labels\u001b[0m\u001b[0;34m.\u001b[0m\u001b[0mshape\u001b[0m\u001b[0;34m)\u001b[0m\u001b[0;34m\u001b[0m\u001b[0;34m\u001b[0m\u001b[0m\n\u001b[1;32m      3\u001b[0m \u001b[0;34m\u001b[0m\u001b[0m\n\u001b[1;32m      4\u001b[0m \u001b[0mtest_labels\u001b[0m \u001b[0;34m=\u001b[0m \u001b[0mtf\u001b[0m\u001b[0;34m.\u001b[0m\u001b[0mreshape\u001b[0m\u001b[0;34m(\u001b[0m\u001b[0mtf\u001b[0m\u001b[0;34m.\u001b[0m\u001b[0mone_hot\u001b[0m\u001b[0;34m(\u001b[0m\u001b[0mtest_labels\u001b[0m\u001b[0;34m,\u001b[0m \u001b[0;36m100\u001b[0m\u001b[0;34m)\u001b[0m\u001b[0;34m,\u001b[0m \u001b[0;34m[\u001b[0m\u001b[0mtest_labels\u001b[0m\u001b[0;34m.\u001b[0m\u001b[0mshape\u001b[0m\u001b[0;34m[\u001b[0m\u001b[0;36m0\u001b[0m\u001b[0;34m]\u001b[0m\u001b[0;34m,\u001b[0m \u001b[0;36m100\u001b[0m\u001b[0;34m]\u001b[0m\u001b[0;34m)\u001b[0m\u001b[0;34m\u001b[0m\u001b[0;34m\u001b[0m\u001b[0m\n\u001b[1;32m      5\u001b[0m \u001b[0mprint\u001b[0m\u001b[0;34m(\u001b[0m\u001b[0mtest_labels\u001b[0m\u001b[0;34m.\u001b[0m\u001b[0mshape\u001b[0m\u001b[0;34m)\u001b[0m\u001b[0;34m\u001b[0m\u001b[0;34m\u001b[0m\u001b[0m\n",
            "\u001b[0;31mNameError\u001b[0m: name 'training_labels' is not defined"
          ]
        }
      ]
    },
    {
      "cell_type": "code",
      "metadata": {
        "id": "NRvhNnnJYjOF",
        "colab": {
          "base_uri": "https://localhost:8080/",
          "height": 201
        },
        "outputId": "2e0c0edc-0079-457b-f78c-b1439e77d81c"
      },
      "source": [
        "model = tf.keras.models.Sequential([\n",
        "  tf.keras.layers.Conv2D(32, (3,3), activation='relu', input_shape=(32, 32, 3)),\n",
        "  tf.keras.layers.MaxPooling2D(2, 2),\n",
        "  tf.keras.layers.Conv2D(32, (3,3), activation='relu'),\n",
        "  tf.keras.layers.MaxPooling2D(2, 2),\n",
        "  tf.keras.layers.Conv2D(32, (3,3), activation='relu'),\n",
        "  tf.keras.layers.MaxPooling2D(2, 2),\n",
        "  tf.keras.layers.Flatten(),\n",
        "  tf.keras.layers.Dense(128, activation='relu'),\n",
        "  tf.keras.layers.Dense(100, activation='softmax')\n",
        "])\n",
        "\n",
        "\n",
        "model.compile(optimizer='adam', loss='binary_crossentropy', metrics=['accuracy'])\n",
        "model.fit(training_images, training_labels, epochs=50, validation_data=(test_images, test_labels))"
      ],
      "execution_count": 15,
      "outputs": [
        {
          "output_type": "error",
          "ename": "NameError",
          "evalue": "ignored",
          "traceback": [
            "\u001b[0;31m---------------------------------------------------------------------------\u001b[0m",
            "\u001b[0;31mNameError\u001b[0m                                 Traceback (most recent call last)",
            "\u001b[0;32m<ipython-input-15-9aa1f3c60142>\u001b[0m in \u001b[0;36m<module>\u001b[0;34m()\u001b[0m\n\u001b[1;32m     13\u001b[0m \u001b[0;34m\u001b[0m\u001b[0m\n\u001b[1;32m     14\u001b[0m \u001b[0mmodel\u001b[0m\u001b[0;34m.\u001b[0m\u001b[0mcompile\u001b[0m\u001b[0;34m(\u001b[0m\u001b[0moptimizer\u001b[0m\u001b[0;34m=\u001b[0m\u001b[0;34m'adam'\u001b[0m\u001b[0;34m,\u001b[0m \u001b[0mloss\u001b[0m\u001b[0;34m=\u001b[0m\u001b[0;34m'binary_crossentropy'\u001b[0m\u001b[0;34m,\u001b[0m \u001b[0mmetrics\u001b[0m\u001b[0;34m=\u001b[0m\u001b[0;34m[\u001b[0m\u001b[0;34m'accuracy'\u001b[0m\u001b[0;34m]\u001b[0m\u001b[0;34m)\u001b[0m\u001b[0;34m\u001b[0m\u001b[0;34m\u001b[0m\u001b[0m\n\u001b[0;32m---> 15\u001b[0;31m \u001b[0mmodel\u001b[0m\u001b[0;34m.\u001b[0m\u001b[0mfit\u001b[0m\u001b[0;34m(\u001b[0m\u001b[0mtraining_images\u001b[0m\u001b[0;34m,\u001b[0m \u001b[0mtraining_labels\u001b[0m\u001b[0;34m,\u001b[0m \u001b[0mepochs\u001b[0m\u001b[0;34m=\u001b[0m\u001b[0;36m50\u001b[0m\u001b[0;34m,\u001b[0m \u001b[0mvalidation_data\u001b[0m\u001b[0;34m=\u001b[0m\u001b[0;34m(\u001b[0m\u001b[0mtest_images\u001b[0m\u001b[0;34m,\u001b[0m \u001b[0mtest_labels\u001b[0m\u001b[0;34m)\u001b[0m\u001b[0;34m)\u001b[0m\u001b[0;34m\u001b[0m\u001b[0;34m\u001b[0m\u001b[0m\n\u001b[0m",
            "\u001b[0;31mNameError\u001b[0m: name 'training_images' is not defined"
          ]
        }
      ]
    },
    {
      "cell_type": "markdown",
      "source": [
        "## Question 7\n",
        "\n",
        "Do you see any problems/errors with the above code? Please describe.\n",
        "\n",
        "We are using binary cross entropy for this function which has more than two outputs. "
      ],
      "metadata": {
        "id": "eAAuecZfTfx2"
      }
    },
    {
      "cell_type": "markdown",
      "metadata": {
        "id": "pDBdn-P976v9"
      },
      "source": [
        "## Categorical Cross Entropy\n",
        "\n",
        "This is the most common setting for classification problems. Cross-entropy loss increases as the **predicted probability** strays away from the **actual label**.\n",
        "\n",
        "Note that we have to compare the probabilities (e.g. [0.20, 0.75, 0.05]) of all the classes with the actual labels (e.g., [0, 1, 0]). The actual labels would be one-hot encoding.\n",
        "\n",
        "An important aspect of this is that cross entropy loss penalizes heavily the predictions that are confident but wrong.\n",
        "\n",
        "We are multiplying the log of the actual predicted probability for the ground truth class.\n",
        "\n",
        "$$CCE = -\\frac{1}{N}\\sum_{i=1}^{N}y_i\\log(\\hat{y}_i)$$ "
      ]
    },
    {
      "cell_type": "code",
      "metadata": {
        "id": "uskCvsUSrR0o"
      },
      "source": [
        "model = tf.keras.models.Sequential([\n",
        "  tf.keras.layers.Conv2D(32, (3,3), activation='relu', input_shape=(32, 32, 3)),\n",
        "  tf.keras.layers.MaxPooling2D(2, 2),\n",
        "  tf.keras.layers.Conv2D(32, (3,3), activation='relu'),\n",
        "  tf.keras.layers.MaxPooling2D(2, 2),\n",
        "  tf.keras.layers.Conv2D(32, (3,3), activation='relu'),\n",
        "  tf.keras.layers.MaxPooling2D(2, 2),\n",
        "  tf.keras.layers.Flatten(),\n",
        "  tf.keras.layers.Dense(128, activation='relu'),\n",
        "  tf.keras.layers.Dense(100, activation='softmax')\n",
        "])\n",
        "\n",
        "model.compile(optimizer='adam', loss='categorical_crossentropy', metrics=['accuracy'])\n",
        "model.fit(training_images, training_labels, epochs=25, validation_data=(test_images, test_labels))"
      ],
      "execution_count": null,
      "outputs": []
    },
    {
      "cell_type": "markdown",
      "source": [
        "## Question 8\n",
        "\n",
        "Now that you know how CCE works, you need to code it. It should give the same answer as `tf.keras.metrics.categorical_crossentropy` would."
      ],
      "metadata": {
        "id": "KYuLKOGSR4yS"
      }
    },
    {
      "cell_type": "markdown",
      "source": [
        "### Answer 8"
      ],
      "metadata": {
        "id": "TAtqr73-SLUt"
      }
    },
    {
      "cell_type": "code",
      "source": [
        "def categorical_crossentropy(true, pred):\n",
        "    \n",
        "    loss = np.sum(true * np.log(pred)) * -1 / len(true)\n",
        "    return loss\n",
        "\n",
        "true = tf.constant([[0.0, 1.0, 0.0],\n",
        "                    [1.0, 0.0, 0.0],\n",
        "                    [1.0, 0.0, 0.0],\n",
        "                    [0.0, 0.0, 1.0]])\n",
        "pred = tf.constant([[0.20, 0.70, 0.10],\n",
        "                    [0.80, 0.05, 0.15],\n",
        "                    [0.75, 0.10, 0.15],\n",
        "                    [0.25, 0.15, 0.60]])\n",
        "\n",
        "loss = categorical_crossentropy(true, pred)\n",
        "print(loss)\n",
        "\n",
        "loss = tf.keras.metrics.categorical_crossentropy(true, pred)\n",
        "loss = tf.reduce_mean(loss)\n",
        "print(loss)"
      ],
      "metadata": {
        "id": "mxzrT-GKSRSb",
        "colab": {
          "base_uri": "https://localhost:8080/"
        },
        "outputId": "8e30a91e-d8a6-445d-c842-39cda186a93e"
      },
      "execution_count": 19,
      "outputs": [
        {
          "output_type": "stream",
          "name": "stdout",
          "text": [
            "0.3445815443992615\n",
            "tf.Tensor(0.34458154, shape=(), dtype=float32)\n"
          ]
        }
      ]
    },
    {
      "cell_type": "markdown",
      "metadata": {
        "id": "5CHuqni18OPL"
      },
      "source": [
        "## Sparse Categorical Cross Entropy\n",
        "\n",
        "Both, Categorical Cross Entropy [CCE] and Sparse Categorical Cross Entropy [SCCE] have the same loss function. The only difference is the format of $y_i$ (i.e., true labels).\n",
        "\n",
        "If $y_i$'s are one-hot encoded, we should use CCE. Examples (for a 3-class classification): [1,0,0], [0,1,0], [0,0,1]\n",
        "\n",
        "But if $y_i$'s are integers, use SCCE. Examples for above 3-class classification problem: [1], [2], [3]\n",
        "\n",
        "The usage entirely depends on how we load our dataset. One advantage of using sparse categorical cross entropy is it saves time in memory as well as computation because it simply uses a single integer for a class, rather than a whole vector.\n",
        "\n",
        "$$SCCE = -\\log(\\hat{y}_i)$$ for $i$ where $one\\text{-}hot\\text{-}encoding[i] = 1$ "
      ]
    },
    {
      "cell_type": "code",
      "source": [
        "(training_images, training_labels), (test_images, test_labels) = tf.keras.datasets.cifar100.load_data(label_mode=\"coarse\")\n",
        "\n",
        "training_images=training_images.reshape(50000, 32, 32, 3)\n",
        "training_images=training_images / 255.0\n",
        "test_images = test_images.reshape(10000, 32, 32, 3)\n",
        "test_images=test_images/255.0"
      ],
      "metadata": {
        "id": "tb6GisE4SkhX"
      },
      "execution_count": null,
      "outputs": []
    },
    {
      "cell_type": "code",
      "metadata": {
        "id": "dcFK26KvCp-g"
      },
      "source": [
        "model = tf.keras.models.Sequential([\n",
        "  tf.keras.layers.Conv2D(32, (3,3), activation='relu', input_shape=(32, 32, 3)),\n",
        "  tf.keras.layers.MaxPooling2D(2, 2),\n",
        "  tf.keras.layers.Conv2D(32, (3,3), activation='relu'),\n",
        "  tf.keras.layers.MaxPooling2D(2, 2),\n",
        "  tf.keras.layers.Conv2D(32, (3,3), activation='relu'),\n",
        "  tf.keras.layers.MaxPooling2D(2, 2),\n",
        "  tf.keras.layers.Flatten(),\n",
        "  tf.keras.layers.Dense(128, activation='relu'),\n",
        "  tf.keras.layers.Dense(100, activation='softmax')\n",
        "])\n",
        "\n",
        "\n",
        "model.compile(optimizer='adam', loss='sparse_categorical_crossentropy', metrics=['accuracy'])\n",
        "model.fit(training_images, training_labels, epochs=50, validation_data=(test_images, test_labels))"
      ],
      "execution_count": null,
      "outputs": []
    },
    {
      "cell_type": "markdown",
      "metadata": {
        "id": "FhV-fVzcNc3p"
      },
      "source": [
        "## Question 9\n",
        "\n",
        "What is the difference between a Multi-class and Multi-label Classification problem, and what sort of loss function would we need to learn them?\n",
        "\n",
        "In Multi-class classification problems the classes are mutually exclusive meaning they cannot be running if the other is running, however in multi-label classification problems, each label represents a different classfication task but the tasks are somehow related. We use Categorial Cross-entropy for Multi-class classication problems and Binary Cross Entropy or Sigmoid Cross-entropy for multi-label classfication problems. "
      ]
    },
    {
      "cell_type": "markdown",
      "metadata": {
        "id": "ITEN1-3-OQwd"
      },
      "source": [
        "## Question 10\n",
        "What is the relationship between Binary Cross entropy and Categorical Cross entropy?\n",
        "\n",
        "Binary Cross Entropy is for Multi-label classification problems and Categorial Cross entropy is for multi-class classfication problems where each example belongs to a simple class. "
      ]
    },
    {
      "cell_type": "markdown",
      "metadata": {
        "id": "uGwk3Z0xOmRk"
      },
      "source": [
        "## Question 11\n",
        "\n",
        "What is the relationship between Sparse Cross entropy and Categorical Cross entropy?\n",
        "\n",
        "Sparse Cross Entropy and Categorical Cross entropy both use the same loss function but the only difference between them is the format of the labels. "
      ]
    },
    {
      "cell_type": "markdown",
      "metadata": {
        "id": "2RDBtUuYjuFh"
      },
      "source": [
        "# **Upload this Day 9 Colab Notebook to your Github repository under \"Day 9\" folder. Also add your *Reflection* on today's learning in README.md**"
      ]
    },
    {
      "cell_type": "markdown",
      "metadata": {
        "id": "Cgg0bvRjS9un"
      },
      "source": [
        "Sources:\n",
        "\n",
        "https://towardsdatascience.com/common-loss-functions-in-machine-learning-46af0ffc4d23\n",
        "\n",
        "https://peltarion.com/knowledge-center/documentation/modeling-view/build-an-ai-model/loss-functions/mean-squared-logarithmic-error-(msle)"
      ]
    }
  ]
}